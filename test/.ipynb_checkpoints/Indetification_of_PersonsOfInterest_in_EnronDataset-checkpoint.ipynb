{
 "cells": [
  {
   "cell_type": "markdown",
   "metadata": {},
   "source": [
    "## State of the art :\n",
    "   \n",
    "In 2000, Enron was one of the largest companies in the United States. By 2002, it had collapsed into bankruptcy due to widespread corporate fraud. In the resulting Federal investigation, there was a significant amount of typically confidential information including tens of thousands of emails and detailed financial data for top executives, entered the public record.\n",
    "\n",
    "Here we would like to build a machine learning model aiming to identify \"persons of interest (POI)\" within Enron employees, i.e., persons who may have committed fraud based on the public Enron financial and email dataset.\n"
   ]
  },
  {
   "cell_type": "markdown",
   "metadata": {},
   "source": [
    "# 0. Import needed libraries"
   ]
  },
  {
   "cell_type": "code",
   "execution_count": 1,
   "metadata": {},
   "outputs": [],
   "source": [
    "%matplotlib inline\n",
    "import pickle\n",
    "import pandas as pd\n",
    "import numpy as np\n",
    "import matplotlib.pyplot as plt\n",
    "import pandas as pd\n",
    "#----transformer : scaling \n",
    "from sklearn.preprocessing import StandardScaler\n",
    "#----transformer: Dimensionality reduction \n",
    "from sklearn.feature_selection import SelectKBest,f_classif\n",
    "from sklearn.decomposition import PCA\n",
    "#----transformer :classifiers \n",
    "from sklearn import svm\n",
    "from sklearn.naive_bayes import GaussianNB\n",
    "from sklearn.tree import DecisionTreeClassifier\n",
    "from sklearn.neighbors import KNeighborsClassifier\n",
    "from sklearn.ensemble import RandomForestClassifier\n",
    "#----transformer : sequencing transformers\n",
    "from sklearn.pipeline import Pipeline, FeatureUnion, make_pipeline\n",
    "#----transformer : tuning transformers params\n",
    "from sklearn.model_selection import GridSearchCV\n",
    "#--- validation metrics\n"
   ]
  },
  {
   "cell_type": "code",
   "execution_count": 2,
   "metadata": {},
   "outputs": [],
   "source": [
    "import sys\n",
    "sys.path.append(\"../src/\")\n",
    "from stats import *\n",
    "from dataset_format import *\n",
    "from poi_tester import evaluate_classifier"
   ]
  },
  {
   "cell_type": "markdown",
   "metadata": {},
   "source": [
    "# 1. Data Set"
   ]
  },
  {
   "cell_type": "markdown",
   "metadata": {},
   "source": [
    "## 1.1. import data dict"
   ]
  },
  {
   "cell_type": "code",
   "execution_count": 3,
   "metadata": {},
   "outputs": [
    {
     "name": "stdout",
     "output_type": "stream",
     "text": [
      "- First 10 dict keys:\n",
      " ['IZZO LAWRENCE L', 'MENDELSOHN JOHN', 'SCRIMSHAW MATTHEW', 'BHATNAGAR SANJAY', 'BELFER ROBERT', 'SAVAGE FRANK', 'MCCLELLAN GEORGE', 'SHAPIRO RICHARD S', 'GRAY RODNEY', 'DONAHUE JR JEFFREY M']\n",
      "\n",
      "- The dataset contains 146 keys (names/persons/records).\n",
      "\n",
      "- First 10 features for first key:\n",
      " ['restricted_stock_deferred', 'poi', 'long_term_incentive', 'bonus', 'expenses', 'director_fees', 'exercised_stock_options', 'deferral_payments', 'email_address', 'from_this_person_to_poi']\n",
      "\n",
      "- The dataset contains 21 features for each name.\n"
     ]
    }
   ],
   "source": [
    "with open(\"../data/final_project_dataset.pkl\", \"rb\") as data_file : \n",
    "    data_dict = pickle.load(data_file)\n",
    "print(\"- First 10 dict keys:\\n\", list(data_dict.keys())[:10])\n",
    "nbName = len(data_dict)\n",
    "print()\n",
    "print ('- The dataset contains %s keys (names/persons/records).' % nbName)\n",
    "print()\n",
    "key0 = list(data_dict.keys())[0]\n",
    "print(\"- First 10 features for first key:\\n\",list(data_dict[key0].keys())[:10])\n",
    "print()\n",
    "nbFeature = len(data_dict[key0])\n",
    "print ('- The dataset contains %s features for each name.' % nbFeature)"
   ]
  },
  {
   "cell_type": "markdown",
   "metadata": {},
   "source": [
    "## 2.2 Convert  dict into data frame"
   ]
  },
  {
   "cell_type": "code",
   "execution_count": 4,
   "metadata": {},
   "outputs": [
    {
     "name": "stdout",
     "output_type": "stream",
     "text": [
      "email_address of ALLEN PHILLIP K is : phillip.allen@enron.com phillip.allen@enron.com\n",
      "restricted_stock_deferred of BANNANTINE JAMES M is : -560222\n",
      "restricted_stock_deferred of BERGSIEKER RICHARD P is : NaN NaN\n",
      "email_address of CALGER CHRISTOPHER F is : christopher.calger@enron.com\n"
     ]
    },
    {
     "data": {
      "text/html": [
       "<div>\n",
       "<style scoped>\n",
       "    .dataframe tbody tr th:only-of-type {\n",
       "        vertical-align: middle;\n",
       "    }\n",
       "\n",
       "    .dataframe tbody tr th {\n",
       "        vertical-align: top;\n",
       "    }\n",
       "\n",
       "    .dataframe thead th {\n",
       "        text-align: right;\n",
       "    }\n",
       "</style>\n",
       "<table border=\"1\" class=\"dataframe\">\n",
       "  <thead>\n",
       "    <tr style=\"text-align: right;\">\n",
       "      <th></th>\n",
       "      <th>restricted_stock_deferred</th>\n",
       "      <th>poi</th>\n",
       "      <th>long_term_incentive</th>\n",
       "      <th>bonus</th>\n",
       "      <th>expenses</th>\n",
       "      <th>director_fees</th>\n",
       "      <th>exercised_stock_options</th>\n",
       "      <th>deferral_payments</th>\n",
       "      <th>email_address</th>\n",
       "      <th>from_this_person_to_poi</th>\n",
       "      <th>...</th>\n",
       "      <th>loan_advances</th>\n",
       "      <th>shared_receipt_with_poi</th>\n",
       "      <th>restricted_stock</th>\n",
       "      <th>to_messages</th>\n",
       "      <th>other</th>\n",
       "      <th>salary</th>\n",
       "      <th>total_stock_value</th>\n",
       "      <th>total_payments</th>\n",
       "      <th>from_messages</th>\n",
       "      <th>deferred_income</th>\n",
       "    </tr>\n",
       "  </thead>\n",
       "  <tbody>\n",
       "    <tr>\n",
       "      <th>ALLEN PHILLIP K</th>\n",
       "      <td>-126027</td>\n",
       "      <td>False</td>\n",
       "      <td>304805</td>\n",
       "      <td>4175000</td>\n",
       "      <td>13868</td>\n",
       "      <td>NaN</td>\n",
       "      <td>1729541</td>\n",
       "      <td>2869717</td>\n",
       "      <td>phillip.allen@enron.com</td>\n",
       "      <td>65</td>\n",
       "      <td>...</td>\n",
       "      <td>NaN</td>\n",
       "      <td>1407</td>\n",
       "      <td>126027</td>\n",
       "      <td>2902</td>\n",
       "      <td>152</td>\n",
       "      <td>201955</td>\n",
       "      <td>1729541</td>\n",
       "      <td>4484442</td>\n",
       "      <td>2195</td>\n",
       "      <td>-3081055</td>\n",
       "    </tr>\n",
       "    <tr>\n",
       "      <th>BADUM JAMES P</th>\n",
       "      <td>NaN</td>\n",
       "      <td>False</td>\n",
       "      <td>NaN</td>\n",
       "      <td>NaN</td>\n",
       "      <td>3486</td>\n",
       "      <td>NaN</td>\n",
       "      <td>257817</td>\n",
       "      <td>178980</td>\n",
       "      <td>NaN</td>\n",
       "      <td>NaN</td>\n",
       "      <td>...</td>\n",
       "      <td>NaN</td>\n",
       "      <td>NaN</td>\n",
       "      <td>NaN</td>\n",
       "      <td>NaN</td>\n",
       "      <td>NaN</td>\n",
       "      <td>NaN</td>\n",
       "      <td>257817</td>\n",
       "      <td>182466</td>\n",
       "      <td>NaN</td>\n",
       "      <td>NaN</td>\n",
       "    </tr>\n",
       "    <tr>\n",
       "      <th>BANNANTINE JAMES M</th>\n",
       "      <td>-560222</td>\n",
       "      <td>False</td>\n",
       "      <td>NaN</td>\n",
       "      <td>NaN</td>\n",
       "      <td>56301</td>\n",
       "      <td>NaN</td>\n",
       "      <td>4046157</td>\n",
       "      <td>NaN</td>\n",
       "      <td>james.bannantine@enron.com</td>\n",
       "      <td>0</td>\n",
       "      <td>...</td>\n",
       "      <td>NaN</td>\n",
       "      <td>465</td>\n",
       "      <td>1757552</td>\n",
       "      <td>566</td>\n",
       "      <td>864523</td>\n",
       "      <td>477</td>\n",
       "      <td>5243487</td>\n",
       "      <td>916197</td>\n",
       "      <td>29</td>\n",
       "      <td>-5104</td>\n",
       "    </tr>\n",
       "    <tr>\n",
       "      <th>BAXTER JOHN C</th>\n",
       "      <td>NaN</td>\n",
       "      <td>False</td>\n",
       "      <td>1586055</td>\n",
       "      <td>1200000</td>\n",
       "      <td>11200</td>\n",
       "      <td>NaN</td>\n",
       "      <td>6680544</td>\n",
       "      <td>1295738</td>\n",
       "      <td>NaN</td>\n",
       "      <td>NaN</td>\n",
       "      <td>...</td>\n",
       "      <td>NaN</td>\n",
       "      <td>NaN</td>\n",
       "      <td>3942714</td>\n",
       "      <td>NaN</td>\n",
       "      <td>2660303</td>\n",
       "      <td>267102</td>\n",
       "      <td>10623258</td>\n",
       "      <td>5634343</td>\n",
       "      <td>NaN</td>\n",
       "      <td>-1386055</td>\n",
       "    </tr>\n",
       "    <tr>\n",
       "      <th>BAY FRANKLIN R</th>\n",
       "      <td>-82782</td>\n",
       "      <td>False</td>\n",
       "      <td>NaN</td>\n",
       "      <td>400000</td>\n",
       "      <td>129142</td>\n",
       "      <td>NaN</td>\n",
       "      <td>NaN</td>\n",
       "      <td>260455</td>\n",
       "      <td>frank.bay@enron.com</td>\n",
       "      <td>NaN</td>\n",
       "      <td>...</td>\n",
       "      <td>NaN</td>\n",
       "      <td>NaN</td>\n",
       "      <td>145796</td>\n",
       "      <td>NaN</td>\n",
       "      <td>69</td>\n",
       "      <td>239671</td>\n",
       "      <td>63014</td>\n",
       "      <td>827696</td>\n",
       "      <td>NaN</td>\n",
       "      <td>-201641</td>\n",
       "    </tr>\n",
       "  </tbody>\n",
       "</table>\n",
       "<p>5 rows × 21 columns</p>\n",
       "</div>"
      ],
      "text/plain": [
       "                   restricted_stock_deferred    poi long_term_incentive  \\\n",
       "ALLEN PHILLIP K                      -126027  False              304805   \n",
       "BADUM JAMES P                            NaN  False                 NaN   \n",
       "BANNANTINE JAMES M                   -560222  False                 NaN   \n",
       "BAXTER JOHN C                            NaN  False             1586055   \n",
       "BAY FRANKLIN R                        -82782  False                 NaN   \n",
       "\n",
       "                      bonus expenses director_fees exercised_stock_options  \\\n",
       "ALLEN PHILLIP K     4175000    13868           NaN                 1729541   \n",
       "BADUM JAMES P           NaN     3486           NaN                  257817   \n",
       "BANNANTINE JAMES M      NaN    56301           NaN                 4046157   \n",
       "BAXTER JOHN C       1200000    11200           NaN                 6680544   \n",
       "BAY FRANKLIN R       400000   129142           NaN                     NaN   \n",
       "\n",
       "                   deferral_payments               email_address  \\\n",
       "ALLEN PHILLIP K              2869717     phillip.allen@enron.com   \n",
       "BADUM JAMES P                 178980                         NaN   \n",
       "BANNANTINE JAMES M               NaN  james.bannantine@enron.com   \n",
       "BAXTER JOHN C                1295738                         NaN   \n",
       "BAY FRANKLIN R                260455         frank.bay@enron.com   \n",
       "\n",
       "                   from_this_person_to_poi       ...       loan_advances  \\\n",
       "ALLEN PHILLIP K                         65       ...                 NaN   \n",
       "BADUM JAMES P                          NaN       ...                 NaN   \n",
       "BANNANTINE JAMES M                       0       ...                 NaN   \n",
       "BAXTER JOHN C                          NaN       ...                 NaN   \n",
       "BAY FRANKLIN R                         NaN       ...                 NaN   \n",
       "\n",
       "                   shared_receipt_with_poi restricted_stock to_messages  \\\n",
       "ALLEN PHILLIP K                       1407           126027        2902   \n",
       "BADUM JAMES P                          NaN              NaN         NaN   \n",
       "BANNANTINE JAMES M                     465          1757552         566   \n",
       "BAXTER JOHN C                          NaN          3942714         NaN   \n",
       "BAY FRANKLIN R                         NaN           145796         NaN   \n",
       "\n",
       "                      other  salary total_stock_value total_payments  \\\n",
       "ALLEN PHILLIP K         152  201955           1729541        4484442   \n",
       "BADUM JAMES P           NaN     NaN            257817         182466   \n",
       "BANNANTINE JAMES M   864523     477           5243487         916197   \n",
       "BAXTER JOHN C       2660303  267102          10623258        5634343   \n",
       "BAY FRANKLIN R           69  239671             63014         827696   \n",
       "\n",
       "                   from_messages deferred_income  \n",
       "ALLEN PHILLIP K             2195        -3081055  \n",
       "BADUM JAMES P                NaN             NaN  \n",
       "BANNANTINE JAMES M            29           -5104  \n",
       "BAXTER JOHN C                NaN        -1386055  \n",
       "BAY FRANKLIN R               NaN         -201641  \n",
       "\n",
       "[5 rows x 21 columns]"
      ]
     },
     "execution_count": 4,
     "metadata": {},
     "output_type": "execute_result"
    }
   ],
   "source": [
    "#data_frame = pd.DataFrame.from_dict(data_dict,orient='columns')# dict keys as column labels\n",
    "data_frame = pd.DataFrame.from_dict(data_dict,orient='index')# dict keys as row labels\n",
    "#------------------------------------------------------------------\n",
    "# access value using key and labels : data_frame.loc\n",
    "name = \"ALLEN PHILLIP K\"\n",
    "feature = \"email_address\"\n",
    "print(feature, \"of\", name,\"is :\", data_frame.loc[name][feature], data_frame.loc[name,feature])\n",
    "#------------------------------------------------------------------\n",
    "# access value using key and label index : data_frame.loc\n",
    "name = \"BANNANTINE JAMES M\"\n",
    "indFeature = 0\n",
    "feature = list(data_frame)[indFeature]\n",
    "print(feature, \"of\", name,\"is :\", data_frame.loc[name][indFeature])\n",
    "#------------------------------------------------------------------\n",
    "# access value using key index and label index : data_frame.iloc\n",
    "indName = 10\n",
    "name = data_frame.index[indName]\n",
    "indFeature = 0\n",
    "feature = list(data_frame)[indFeature]\n",
    "print(feature, \"of\", name,\"is :\", data_frame.iloc[indName][indFeature],data_frame.iloc[indName,indFeature])\n",
    "#------------------------------------------------------------------\n",
    "# access value using key index and label : data_frame.iloc\n",
    "indName = 20\n",
    "name = data_frame.index[indName]\n",
    "feature = \"email_address\"\n",
    "print(feature, \"of\", name,\"is :\", data_frame.iloc[indName][feature])\n",
    "#------------------------------------------------------------------\n",
    "\n",
    "data_frame.head()"
   ]
  },
  {
   "cell_type": "markdown",
   "metadata": {},
   "source": [
    "## 2.3 Replacing text \"NaN\" by numeric np.nan"
   ]
  },
  {
   "cell_type": "code",
   "execution_count": 5,
   "metadata": {},
   "outputs": [],
   "source": [
    "data_frame = data_frame.replace('NaN',np.nan)"
   ]
  },
  {
   "cell_type": "markdown",
   "metadata": {},
   "source": [
    "## 2.4 Check Positive Targets (POi==True)"
   ]
  },
  {
   "cell_type": "code",
   "execution_count": 6,
   "metadata": {},
   "outputs": [
    {
     "name": "stdout",
     "output_type": "stream",
     "text": [
      "Total recorded poi names 35\n"
     ]
    }
   ],
   "source": [
    "poi_name_record = open(\"../data/poi_names.txt\").read().split(\"\\n\")\n",
    "poi_name_total = [record for record in poi_name_record if \"(y)\" in record or \"(n)\" in record]\n",
    "\n",
    "print(\"Total recorded poi names\", len(poi_name_total))"
   ]
  },
  {
   "cell_type": "code",
   "execution_count": 7,
   "metadata": {},
   "outputs": [
    {
     "name": "stdout",
     "output_type": "stream",
     "text": [
      "There are only 18 POIs (recorded persons of interest) in the data set\n"
     ]
    },
    {
     "data": {
      "text/html": [
       "<div>\n",
       "<style scoped>\n",
       "    .dataframe tbody tr th:only-of-type {\n",
       "        vertical-align: middle;\n",
       "    }\n",
       "\n",
       "    .dataframe tbody tr th {\n",
       "        vertical-align: top;\n",
       "    }\n",
       "\n",
       "    .dataframe thead th {\n",
       "        text-align: right;\n",
       "    }\n",
       "</style>\n",
       "<table border=\"1\" class=\"dataframe\">\n",
       "  <thead>\n",
       "    <tr style=\"text-align: right;\">\n",
       "      <th></th>\n",
       "      <th>restricted_stock_deferred</th>\n",
       "      <th>poi</th>\n",
       "      <th>long_term_incentive</th>\n",
       "      <th>bonus</th>\n",
       "      <th>expenses</th>\n",
       "      <th>director_fees</th>\n",
       "      <th>exercised_stock_options</th>\n",
       "      <th>deferral_payments</th>\n",
       "      <th>email_address</th>\n",
       "      <th>from_this_person_to_poi</th>\n",
       "      <th>...</th>\n",
       "      <th>loan_advances</th>\n",
       "      <th>shared_receipt_with_poi</th>\n",
       "      <th>restricted_stock</th>\n",
       "      <th>to_messages</th>\n",
       "      <th>other</th>\n",
       "      <th>salary</th>\n",
       "      <th>total_stock_value</th>\n",
       "      <th>total_payments</th>\n",
       "      <th>from_messages</th>\n",
       "      <th>deferred_income</th>\n",
       "    </tr>\n",
       "  </thead>\n",
       "  <tbody>\n",
       "    <tr>\n",
       "      <th>BELDEN TIMOTHY N</th>\n",
       "      <td>NaN</td>\n",
       "      <td>True</td>\n",
       "      <td>NaN</td>\n",
       "      <td>5249999.0</td>\n",
       "      <td>17355.0</td>\n",
       "      <td>NaN</td>\n",
       "      <td>953136.0</td>\n",
       "      <td>2144013.0</td>\n",
       "      <td>tim.belden@enron.com</td>\n",
       "      <td>108.0</td>\n",
       "      <td>...</td>\n",
       "      <td>NaN</td>\n",
       "      <td>5521.0</td>\n",
       "      <td>157569.0</td>\n",
       "      <td>7991.0</td>\n",
       "      <td>210698.0</td>\n",
       "      <td>213999.0</td>\n",
       "      <td>1110705.0</td>\n",
       "      <td>5501630.0</td>\n",
       "      <td>484.0</td>\n",
       "      <td>-2334434.0</td>\n",
       "    </tr>\n",
       "    <tr>\n",
       "      <th>BOWEN JR RAYMOND M</th>\n",
       "      <td>NaN</td>\n",
       "      <td>True</td>\n",
       "      <td>974293.0</td>\n",
       "      <td>1350000.0</td>\n",
       "      <td>65907.0</td>\n",
       "      <td>NaN</td>\n",
       "      <td>NaN</td>\n",
       "      <td>NaN</td>\n",
       "      <td>raymond.bowen@enron.com</td>\n",
       "      <td>15.0</td>\n",
       "      <td>...</td>\n",
       "      <td>NaN</td>\n",
       "      <td>1593.0</td>\n",
       "      <td>252055.0</td>\n",
       "      <td>1858.0</td>\n",
       "      <td>1621.0</td>\n",
       "      <td>278601.0</td>\n",
       "      <td>252055.0</td>\n",
       "      <td>2669589.0</td>\n",
       "      <td>27.0</td>\n",
       "      <td>-833.0</td>\n",
       "    </tr>\n",
       "    <tr>\n",
       "      <th>CALGER CHRISTOPHER F</th>\n",
       "      <td>NaN</td>\n",
       "      <td>True</td>\n",
       "      <td>375304.0</td>\n",
       "      <td>1250000.0</td>\n",
       "      <td>35818.0</td>\n",
       "      <td>NaN</td>\n",
       "      <td>NaN</td>\n",
       "      <td>NaN</td>\n",
       "      <td>christopher.calger@enron.com</td>\n",
       "      <td>25.0</td>\n",
       "      <td>...</td>\n",
       "      <td>NaN</td>\n",
       "      <td>2188.0</td>\n",
       "      <td>126027.0</td>\n",
       "      <td>2598.0</td>\n",
       "      <td>486.0</td>\n",
       "      <td>240189.0</td>\n",
       "      <td>126027.0</td>\n",
       "      <td>1639297.0</td>\n",
       "      <td>144.0</td>\n",
       "      <td>-262500.0</td>\n",
       "    </tr>\n",
       "    <tr>\n",
       "      <th>CAUSEY RICHARD A</th>\n",
       "      <td>NaN</td>\n",
       "      <td>True</td>\n",
       "      <td>350000.0</td>\n",
       "      <td>1000000.0</td>\n",
       "      <td>30674.0</td>\n",
       "      <td>NaN</td>\n",
       "      <td>NaN</td>\n",
       "      <td>NaN</td>\n",
       "      <td>richard.causey@enron.com</td>\n",
       "      <td>12.0</td>\n",
       "      <td>...</td>\n",
       "      <td>NaN</td>\n",
       "      <td>1585.0</td>\n",
       "      <td>2502063.0</td>\n",
       "      <td>1892.0</td>\n",
       "      <td>307895.0</td>\n",
       "      <td>415189.0</td>\n",
       "      <td>2502063.0</td>\n",
       "      <td>1868758.0</td>\n",
       "      <td>49.0</td>\n",
       "      <td>-235000.0</td>\n",
       "    </tr>\n",
       "    <tr>\n",
       "      <th>COLWELL WESLEY</th>\n",
       "      <td>NaN</td>\n",
       "      <td>True</td>\n",
       "      <td>NaN</td>\n",
       "      <td>1200000.0</td>\n",
       "      <td>16514.0</td>\n",
       "      <td>NaN</td>\n",
       "      <td>NaN</td>\n",
       "      <td>27610.0</td>\n",
       "      <td>wes.colwell@enron.com</td>\n",
       "      <td>11.0</td>\n",
       "      <td>...</td>\n",
       "      <td>NaN</td>\n",
       "      <td>1132.0</td>\n",
       "      <td>698242.0</td>\n",
       "      <td>1758.0</td>\n",
       "      <td>101740.0</td>\n",
       "      <td>288542.0</td>\n",
       "      <td>698242.0</td>\n",
       "      <td>1490344.0</td>\n",
       "      <td>40.0</td>\n",
       "      <td>-144062.0</td>\n",
       "    </tr>\n",
       "  </tbody>\n",
       "</table>\n",
       "<p>5 rows × 21 columns</p>\n",
       "</div>"
      ],
      "text/plain": [
       "                      restricted_stock_deferred   poi  long_term_incentive  \\\n",
       "BELDEN TIMOTHY N                            NaN  True                  NaN   \n",
       "BOWEN JR RAYMOND M                          NaN  True             974293.0   \n",
       "CALGER CHRISTOPHER F                        NaN  True             375304.0   \n",
       "CAUSEY RICHARD A                            NaN  True             350000.0   \n",
       "COLWELL WESLEY                              NaN  True                  NaN   \n",
       "\n",
       "                          bonus  expenses  director_fees  \\\n",
       "BELDEN TIMOTHY N      5249999.0   17355.0            NaN   \n",
       "BOWEN JR RAYMOND M    1350000.0   65907.0            NaN   \n",
       "CALGER CHRISTOPHER F  1250000.0   35818.0            NaN   \n",
       "CAUSEY RICHARD A      1000000.0   30674.0            NaN   \n",
       "COLWELL WESLEY        1200000.0   16514.0            NaN   \n",
       "\n",
       "                      exercised_stock_options  deferral_payments  \\\n",
       "BELDEN TIMOTHY N                     953136.0          2144013.0   \n",
       "BOWEN JR RAYMOND M                        NaN                NaN   \n",
       "CALGER CHRISTOPHER F                      NaN                NaN   \n",
       "CAUSEY RICHARD A                          NaN                NaN   \n",
       "COLWELL WESLEY                            NaN            27610.0   \n",
       "\n",
       "                                     email_address  from_this_person_to_poi  \\\n",
       "BELDEN TIMOTHY N              tim.belden@enron.com                    108.0   \n",
       "BOWEN JR RAYMOND M         raymond.bowen@enron.com                     15.0   \n",
       "CALGER CHRISTOPHER F  christopher.calger@enron.com                     25.0   \n",
       "CAUSEY RICHARD A          richard.causey@enron.com                     12.0   \n",
       "COLWELL WESLEY               wes.colwell@enron.com                     11.0   \n",
       "\n",
       "                           ...         loan_advances  shared_receipt_with_poi  \\\n",
       "BELDEN TIMOTHY N           ...                   NaN                   5521.0   \n",
       "BOWEN JR RAYMOND M         ...                   NaN                   1593.0   \n",
       "CALGER CHRISTOPHER F       ...                   NaN                   2188.0   \n",
       "CAUSEY RICHARD A           ...                   NaN                   1585.0   \n",
       "COLWELL WESLEY             ...                   NaN                   1132.0   \n",
       "\n",
       "                      restricted_stock  to_messages     other    salary  \\\n",
       "BELDEN TIMOTHY N              157569.0       7991.0  210698.0  213999.0   \n",
       "BOWEN JR RAYMOND M            252055.0       1858.0    1621.0  278601.0   \n",
       "CALGER CHRISTOPHER F          126027.0       2598.0     486.0  240189.0   \n",
       "CAUSEY RICHARD A             2502063.0       1892.0  307895.0  415189.0   \n",
       "COLWELL WESLEY                698242.0       1758.0  101740.0  288542.0   \n",
       "\n",
       "                      total_stock_value  total_payments  from_messages  \\\n",
       "BELDEN TIMOTHY N              1110705.0       5501630.0          484.0   \n",
       "BOWEN JR RAYMOND M             252055.0       2669589.0           27.0   \n",
       "CALGER CHRISTOPHER F           126027.0       1639297.0          144.0   \n",
       "CAUSEY RICHARD A              2502063.0       1868758.0           49.0   \n",
       "COLWELL WESLEY                 698242.0       1490344.0           40.0   \n",
       "\n",
       "                      deferred_income  \n",
       "BELDEN TIMOTHY N           -2334434.0  \n",
       "BOWEN JR RAYMOND M             -833.0  \n",
       "CALGER CHRISTOPHER F        -262500.0  \n",
       "CAUSEY RICHARD A            -235000.0  \n",
       "COLWELL WESLEY              -144062.0  \n",
       "\n",
       "[5 rows x 21 columns]"
      ]
     },
     "execution_count": 7,
     "metadata": {},
     "output_type": "execute_result"
    }
   ],
   "source": [
    "data_frame_POI = data_frame[data_frame['poi'] == True]\n",
    "nbPoi = len(data_frame_POI)\n",
    "print('There are only %s POIs (recorded persons of interest) in the data set' % nbPoi)\n",
    "data_frame_POI.head()\n"
   ]
  },
  {
   "cell_type": "markdown",
   "metadata": {},
   "source": [
    "## 2.5 Checking odd keys or numerical values "
   ]
  },
  {
   "cell_type": "markdown",
   "metadata": {},
   "source": [
    "- check rows with only nan values\n"
   ]
  },
  {
   "cell_type": "code",
   "execution_count": 8,
   "metadata": {},
   "outputs": [
    {
     "name": "stdout",
     "output_type": "stream",
     "text": [
      "restricted_stock_deferred      NaN\n",
      "poi                          False\n",
      "long_term_incentive            NaN\n",
      "bonus                          NaN\n",
      "expenses                       NaN\n",
      "director_fees                  NaN\n",
      "exercised_stock_options        NaN\n",
      "deferral_payments              NaN\n",
      "email_address                  NaN\n",
      "from_this_person_to_poi        NaN\n",
      "from_poi_to_this_person        NaN\n",
      "loan_advances                  NaN\n",
      "shared_receipt_with_poi        NaN\n",
      "restricted_stock               NaN\n",
      "to_messages                    NaN\n",
      "other                          NaN\n",
      "salary                         NaN\n",
      "total_stock_value              NaN\n",
      "total_payments                 NaN\n",
      "from_messages                  NaN\n",
      "deferred_income                NaN\n",
      "Name: LOCKHART EUGENE E, dtype: object\n",
      "-----\n",
      "\n",
      "LOCKHART EUGENE E entry (row) should be removed from the data set\n",
      "---------------------\n"
     ]
    }
   ],
   "source": [
    "for key in data_frame.index:\n",
    "    if data_frame.loc[key].count()<2:#\n",
    "        print(data_frame.loc[key])\n",
    "        \n",
    "        print(\"-----\")\n",
    "        print()\n",
    "        print( key, \"entry (row) should be removed from the data set\")\n",
    "        print(\"---------------------\")"
   ]
  },
  {
   "cell_type": "code",
   "execution_count": 9,
   "metadata": {},
   "outputs": [],
   "source": [
    "data_frame = data_frame.drop(index=[\"LOCKHART EUGENE E\"])"
   ]
  },
  {
   "cell_type": "markdown",
   "metadata": {},
   "source": [
    "- check manually keys syntax (names)\n"
   ]
  },
  {
   "cell_type": "code",
   "execution_count": 10,
   "metadata": {
    "scrolled": true
   },
   "outputs": [
    {
     "name": "stdout",
     "output_type": "stream",
     "text": [
      "ALLEN PHILLIP K\n",
      "BADUM JAMES P\n",
      "BANNANTINE JAMES M\n",
      "BAXTER JOHN C\n",
      "BAY FRANKLIN R\n",
      "BAZELIDES PHILIP J\n",
      "BECK SALLY W\n",
      "BELDEN TIMOTHY N\n",
      "BELFER ROBERT\n",
      "BERBERIAN DAVID\n",
      "BERGSIEKER RICHARD P\n",
      "BHATNAGAR SANJAY\n",
      "BIBI PHILIPPE A\n",
      "BLACHMAN JEREMY M\n",
      "BLAKE JR. NORMAN P\n",
      "BOWEN JR RAYMOND M\n",
      "BROWN MICHAEL\n",
      "BUCHANAN HAROLD G\n",
      "BUTTS ROBERT H\n",
      "BUY RICHARD B\n",
      "CALGER CHRISTOPHER F\n",
      "CARTER REBECCA C\n",
      "CAUSEY RICHARD A\n",
      "CHAN RONNIE\n",
      "CHRISTODOULOU DIOMEDES\n",
      "CLINE KENNETH W\n",
      "COLWELL WESLEY\n",
      "CORDES WILLIAM R\n",
      "COX DAVID\n",
      "CUMBERLAND MICHAEL S\n",
      "DEFFNER JOSEPH M\n",
      "DELAINEY DAVID W\n",
      "DERRICK JR. JAMES V\n",
      "DETMERING TIMOTHY J\n",
      "DIETRICH JANET R\n",
      "DIMICHELE RICHARD G\n",
      "DODSON KEITH\n",
      "DONAHUE JR JEFFREY M\n",
      "DUNCAN JOHN H\n",
      "DURAN WILLIAM D\n",
      "ECHOLS JOHN B\n",
      "ELLIOTT STEVEN\n",
      "FALLON JAMES B\n",
      "FASTOW ANDREW S\n",
      "FITZGERALD JAY L\n",
      "FOWLER PEGGY\n",
      "FOY JOE\n",
      "FREVERT MARK A\n",
      "FUGH JOHN L\n",
      "GAHN ROBERT S\n",
      "GARLAND C KEVIN\n",
      "GATHMANN WILLIAM D\n",
      "GIBBS DANA R\n",
      "GILLIS JOHN\n",
      "GLISAN JR BEN F\n",
      "GOLD JOSEPH\n",
      "GRAMM WENDY L\n",
      "GRAY RODNEY\n",
      "HAEDICKE MARK E\n",
      "HANNON KEVIN P\n",
      "HAUG DAVID L\n",
      "HAYES ROBERT E\n",
      "HAYSLETT RODERICK J\n",
      "HERMANN ROBERT J\n",
      "HICKERSON GARY J\n",
      "HIRKO JOSEPH\n",
      "HORTON STANLEY C\n",
      "HUGHES JAMES A\n",
      "HUMPHREY GENE E\n",
      "IZZO LAWRENCE L\n",
      "JACKSON CHARLENE R\n",
      "JAEDICKE ROBERT\n",
      "KAMINSKI WINCENTY J\n",
      "KEAN STEVEN J\n",
      "KISHKILL JOSEPH G\n",
      "KITCHEN LOUISE\n",
      "KOENIG MARK E\n",
      "KOPPER MICHAEL J\n",
      "LAVORATO JOHN J\n",
      "LAY KENNETH L\n",
      "LEFF DANIEL P\n",
      "LEMAISTRE CHARLES\n",
      "LEWIS RICHARD\n",
      "LINDHOLM TOD A\n",
      "LOWRY CHARLES P\n",
      "MARTIN AMANDA K\n",
      "MCCARTY DANNY J\n",
      "MCCLELLAN GEORGE\n",
      "MCCONNELL MICHAEL S\n",
      "MCDONALD REBECCA\n",
      "MCMAHON JEFFREY\n",
      "MENDELSOHN JOHN\n",
      "METTS MARK\n",
      "MEYER JEROME J\n",
      "MEYER ROCKFORD G\n",
      "MORAN MICHAEL P\n",
      "MORDAUNT KRISTINA M\n",
      "MULLER MARK S\n",
      "MURRAY JULIA H\n",
      "NOLES JAMES L\n",
      "OLSON CINDY K\n",
      "OVERDYKE JR JERE C\n",
      "PAI LOU L\n",
      "PEREIRA PAULO V. FERRAZ\n",
      "PICKERING MARK R\n",
      "PIPER GREGORY F\n",
      "PIRO JIM\n",
      "POWERS WILLIAM\n",
      "PRENTICE JAMES\n",
      "REDMOND BRIAN L\n",
      "REYNOLDS LAWRENCE\n",
      "RICE KENNETH D\n",
      "RIEKER PAULA H\n",
      "SAVAGE FRANK\n",
      "SCRIMSHAW MATTHEW\n",
      "SHANKMAN JEFFREY A\n",
      "SHAPIRO RICHARD S\n",
      "SHARP VICTORIA T\n",
      "SHELBY REX\n",
      "SHERRICK JEFFREY B\n",
      "SHERRIFF JOHN R\n",
      "SKILLING JEFFREY K\n",
      "STABLER FRANK\n",
      "SULLIVAN-SHAKLOVITZ COLLEEN\n",
      "SUNDE MARTIN\n",
      "TAYLOR MITCHELL S\n",
      "THE TRAVEL AGENCY IN THE PARK\n",
      "THORN TERENCE H\n",
      "TILNEY ELIZABETH A\n",
      "TOTAL\n",
      "UMANOFF ADAM S\n",
      "URQUHART JOHN A\n",
      "WAKEHAM JOHN\n",
      "WALLS JR ROBERT H\n",
      "WALTERS GARETH W\n",
      "WASAFF GEORGE\n",
      "WESTFAHL RICHARD K\n",
      "WHALEY DAVID A\n",
      "WHALLEY LAWRENCE G\n",
      "WHITE JR THOMAS E\n",
      "WINOKUR JR. HERBERT S\n",
      "WODRASKA JOHN\n",
      "WROBEL BRUCE\n",
      "YEAGER F SCOTT\n",
      "YEAP SOON\n"
     ]
    }
   ],
   "source": [
    "for k in data_frame.index:\n",
    "    print (k)"
   ]
  },
  {
   "cell_type": "markdown",
   "metadata": {},
   "source": [
    "There are two strange keys :  \"THE TRAVEL AGENCY IN THE PARK\",\"TOTAL\""
   ]
  },
  {
   "cell_type": "code",
   "execution_count": 11,
   "metadata": {},
   "outputs": [
    {
     "name": "stdout",
     "output_type": "stream",
     "text": [
      "restricted_stock_deferred       NaN\n",
      "poi                           False\n",
      "long_term_incentive             NaN\n",
      "bonus                           NaN\n",
      "expenses                        NaN\n",
      "director_fees                   NaN\n",
      "exercised_stock_options         NaN\n",
      "deferral_payments               NaN\n",
      "email_address                   NaN\n",
      "from_this_person_to_poi         NaN\n",
      "from_poi_to_this_person         NaN\n",
      "loan_advances                   NaN\n",
      "shared_receipt_with_poi         NaN\n",
      "restricted_stock                NaN\n",
      "to_messages                     NaN\n",
      "other                        362096\n",
      "salary                          NaN\n",
      "total_stock_value               NaN\n",
      "total_payments               362096\n",
      "from_messages                   NaN\n",
      "deferred_income                 NaN\n",
      "Name: THE TRAVEL AGENCY IN THE PARK, dtype: object\n",
      "=========\n",
      "restricted_stock_deferred   -7.57679e+06\n",
      "poi                                False\n",
      "long_term_incentive          4.85219e+07\n",
      "bonus                        9.73436e+07\n",
      "expenses                      5.2352e+06\n",
      "director_fees                1.39852e+06\n",
      "exercised_stock_options      3.11764e+08\n",
      "deferral_payments            3.20834e+07\n",
      "email_address                        NaN\n",
      "from_this_person_to_poi              NaN\n",
      "from_poi_to_this_person              NaN\n",
      "loan_advances                 8.3925e+07\n",
      "shared_receipt_with_poi              NaN\n",
      "restricted_stock             1.30322e+08\n",
      "to_messages                          NaN\n",
      "other                        4.26676e+07\n",
      "salary                       2.67042e+07\n",
      "total_stock_value             4.3451e+08\n",
      "total_payments               3.09887e+08\n",
      "from_messages                        NaN\n",
      "deferred_income             -2.79929e+07\n",
      "Name: TOTAL, dtype: object\n"
     ]
    }
   ],
   "source": [
    "print(data_frame.loc[\"THE TRAVEL AGENCY IN THE PARK\"])\n",
    "print(\"=========\")\n",
    "print(data_frame.loc[\"TOTAL\"])"
   ]
  },
  {
   "cell_type": "code",
   "execution_count": 12,
   "metadata": {},
   "outputs": [
    {
     "name": "stdout",
     "output_type": "stream",
     "text": [
      "129\n"
     ]
    }
   ],
   "source": [
    "print(data_frame.index.get_loc(\"TOTAL\"))"
   ]
  },
  {
   "cell_type": "code",
   "execution_count": 13,
   "metadata": {},
   "outputs": [
    {
     "data": {
      "text/plain": [
       "<matplotlib.legend.Legend at 0x1a16859080>"
      ]
     },
     "execution_count": 13,
     "metadata": {},
     "output_type": "execute_result"
    },
    {
     "data": {
      "image/png": "[encoded data removed]",
      "text/plain": [
       "<matplotlib.figure.Figure at 0x1a0b2e1e10>"
      ]
     },
     "metadata": {},
     "output_type": "display_data"
    }
   ],
   "source": [
    "f = \"total_payments\"\n",
    "key_ = \"THE TRAVEL AGENCY IN THE PARK\"\n",
    "key__ = \"TOTAL\"\n",
    "plt.figure(figsize=(6,4))\n",
    "ind_,ind__ = data_frame.index.get_loc(key_),data_frame.index.get_loc(key__)\n",
    "plt.scatter([i for i in range(len(data_frame[f]))],data_frame[f],label=\"Employees\",facecolor=\"w\",edgecolor=\"gray\")\n",
    "plt.xlabel('Index in Data Frame')\n",
    "plt.ylabel(\"Total Payments\")\n",
    "plt.plot([ind__],[data_frame.loc[key__][f]],\"ro\",ms=4,label=\"TOTAL\")\n",
    "plt.plot([ind_],[data_frame.loc[key_][f]],\"co\",ms=4,label=\"TRAVEL AGENCY\")\n",
    "plt.legend()"
   ]
  },
  {
   "cell_type": "markdown",
   "metadata": {},
   "source": [
    "==> \"TOTAL\" is clearly an outlier\n",
    "\n",
    "==> By looking at the original financial pdf file, \"TOTAL\" and \"THE TRAVEL AGENCY IN THE PARK\" are bad entries resulting from automatic interpretation of the of the pdf\n",
    "\n",
    "==> Both entries should be removed"
   ]
  },
  {
   "cell_type": "code",
   "execution_count": 14,
   "metadata": {},
   "outputs": [],
   "source": [
    "data_frame = data_frame.drop(index=[\"TOTAL\",\"THE TRAVEL AGENCY IN THE PARK\"])"
   ]
  },
  {
   "cell_type": "markdown",
   "metadata": {},
   "source": [
    "- check total not equal to sum of individuals\n"
   ]
  },
  {
   "cell_type": "code",
   "execution_count": 15,
   "metadata": {
    "scrolled": true
   },
   "outputs": [
    {
     "name": "stdout",
     "output_type": "stream",
     "text": [
      "sum               -99215.0\n",
      "total_payments    102500.0\n",
      "Name: BELFER ROBERT, dtype: float64\n",
      "sum                 275728.0\n",
      "total_payments    15456290.0\n",
      "Name: BHATNAGAR SANJAY, dtype: float64\n"
     ]
    }
   ],
   "source": [
    "feature_totalPayments = ['salary','long_term_incentive', 'deferral_payments','loan_advances',\n",
    "                        'bonus', 'deferred_income','other', 'expenses','director_fees']\n",
    "df1 = pd.concat([data_frame[feature_totalPayments].sum(axis=1),data_frame[[\"total_payments\"]]],axis=1)\n",
    "if False: print(df1)\n",
    "df1.columns=[\"sum\",\"total_payments\"]\n",
    "for k in df1.index:\n",
    "    if df1.loc[k][\"sum\"]!=df1.loc[k][\"total_payments\"]:\n",
    "        if df1.loc[k][\"sum\"]==0. and np.isnan(df1.loc[k][\"total_payments\"]):continue\n",
    "        print(df1.loc[k])"
   ]
  },
  {
   "cell_type": "code",
   "execution_count": 16,
   "metadata": {},
   "outputs": [
    {
     "name": "stdout",
     "output_type": "stream",
     "text": [
      "sum                  47378.0\n",
      "total_stock_value   -44093.0\n",
      "Name: BELFER ROBERT, dtype: float64\n",
      "sum                  15456290.0\n",
      "total_stock_value           NaN\n",
      "Name: BHATNAGAR SANJAY, dtype: float64\n"
     ]
    }
   ],
   "source": [
    "feature_totalStock = ['restricted_stock','exercised_stock_options','restricted_stock_deferred']\n",
    "df2 = pd.concat([data_frame[feature_totalStock].sum(axis=1),data_frame[[\"total_stock_value\"]]],axis=1)\n",
    "df2.columns=[\"sum\",\"total_stock_value\"]\n",
    "for k in df2.index:\n",
    "    if df2.loc[k][\"sum\"]!=df2.loc[k][\"total_stock_value\"]:\n",
    "        if df2.loc[k][\"sum\"]==0. and np.isnan(df2.loc[k][\"total_stock_value\"]):continue\n",
    "        print(df2.loc[k])"
   ]
  },
  {
   "cell_type": "markdown",
   "metadata": {},
   "source": [
    "==> input errors for two names \"BHATNAGAR SANJAY\", \"BELFER ROBERT\" should be corrected based on the original pdf file "
   ]
  },
  {
   "cell_type": "code",
   "execution_count": 17,
   "metadata": {},
   "outputs": [],
   "source": [
    "BR_feature_list = ['deferred_income','deferral_payments','expenses','director_fees','total_payments',\n",
    "                   'exercised_stock_options','restricted_stock','restricted_stock_deferred','total_stock_value']\n",
    "BR_valuesList = [ -102500,0,3285,102500,3285,0,44093,-44093,0]\n",
    "for i in range(len(BR_feature_list)): \n",
    "    data_frame.loc['BELFER ROBERT',BR_feature_list[i]] = BR_valuesList[i]\n",
    "BS_feature_list = ['other','expenses','director_fees','total_payments',\n",
    "                   'exercised_stock_options','restricted_stock','restricted_stock_deferred','total_stock_value']\n",
    "BS_valuesList = [ 0,137864,0,137864,15456290,2604490,-2604490,15456290]\n",
    "for i in range(len(BS_feature_list)): \n",
    "    data_frame.loc['BHATNAGAR SANJAY',BS_feature_list[i]] = BS_valuesList[i]"
   ]
  },
  {
   "cell_type": "code",
   "execution_count": 18,
   "metadata": {},
   "outputs": [],
   "source": [
    "feature_totalStock = ['restricted_stock','exercised_stock_options','restricted_stock_deferred']\n",
    "df2 = pd.concat([data_frame[feature_totalStock].sum(axis=1),data_frame[[\"total_stock_value\"]]],axis=1)\n",
    "df2.columns=[\"sum\",\"total_stock_value\"]\n",
    "for k in df2.index:\n",
    "    if df2.loc[k][\"sum\"]!=df2.loc[k][\"total_stock_value\"]:\n",
    "        if df2.loc[k][\"sum\"]==0. and np.isnan(df2.loc[k][\"total_stock_value\"]):continue\n",
    "        print(df2.loc[k])"
   ]
  },
  {
   "cell_type": "markdown",
   "metadata": {},
   "source": [
    "# 2. Features"
   ]
  },
  {
   "cell_type": "code",
   "execution_count": 19,
   "metadata": {},
   "outputs": [
    {
     "name": "stdout",
     "output_type": "stream",
     "text": [
      "The dataset contains 21 features for each person as follows:\n",
      "['restricted_stock_deferred', 'poi', 'long_term_incentive', 'bonus', 'expenses', 'director_fees', 'exercised_stock_options', 'deferral_payments', 'email_address', 'from_this_person_to_poi', 'from_poi_to_this_person', 'loan_advances', 'shared_receipt_with_poi', 'restricted_stock', 'to_messages', 'other', 'salary', 'total_stock_value', 'total_payments', 'from_messages', 'deferred_income']\n"
     ]
    }
   ],
   "source": [
    "nbFeature = len(list(data_frame))\n",
    "print('The dataset contains %s features for each person as follows:' % nbFeature)\n",
    "print(list(data_frame))"
   ]
  },
  {
   "cell_type": "markdown",
   "metadata": {},
   "source": [
    "## 2.1 Put Target feature (\"poi\") in the beginning of the list"
   ]
  },
  {
   "cell_type": "code",
   "execution_count": 20,
   "metadata": {},
   "outputs": [
    {
     "data": {
      "text/html": [
       "<div>\n",
       "<style scoped>\n",
       "    .dataframe tbody tr th:only-of-type {\n",
       "        vertical-align: middle;\n",
       "    }\n",
       "\n",
       "    .dataframe tbody tr th {\n",
       "        vertical-align: top;\n",
       "    }\n",
       "\n",
       "    .dataframe thead th {\n",
       "        text-align: right;\n",
       "    }\n",
       "</style>\n",
       "<table border=\"1\" class=\"dataframe\">\n",
       "  <thead>\n",
       "    <tr style=\"text-align: right;\">\n",
       "      <th></th>\n",
       "      <th>poi</th>\n",
       "      <th>restricted_stock_deferred</th>\n",
       "      <th>long_term_incentive</th>\n",
       "      <th>bonus</th>\n",
       "      <th>expenses</th>\n",
       "      <th>director_fees</th>\n",
       "      <th>exercised_stock_options</th>\n",
       "      <th>deferral_payments</th>\n",
       "      <th>email_address</th>\n",
       "      <th>from_this_person_to_poi</th>\n",
       "      <th>...</th>\n",
       "      <th>loan_advances</th>\n",
       "      <th>shared_receipt_with_poi</th>\n",
       "      <th>restricted_stock</th>\n",
       "      <th>to_messages</th>\n",
       "      <th>other</th>\n",
       "      <th>salary</th>\n",
       "      <th>total_stock_value</th>\n",
       "      <th>total_payments</th>\n",
       "      <th>from_messages</th>\n",
       "      <th>deferred_income</th>\n",
       "    </tr>\n",
       "  </thead>\n",
       "  <tbody>\n",
       "    <tr>\n",
       "      <th>ALLEN PHILLIP K</th>\n",
       "      <td>False</td>\n",
       "      <td>-126027.0</td>\n",
       "      <td>304805.0</td>\n",
       "      <td>4175000.0</td>\n",
       "      <td>13868.0</td>\n",
       "      <td>NaN</td>\n",
       "      <td>1729541.0</td>\n",
       "      <td>2869717.0</td>\n",
       "      <td>phillip.allen@enron.com</td>\n",
       "      <td>65.0</td>\n",
       "      <td>...</td>\n",
       "      <td>NaN</td>\n",
       "      <td>1407.0</td>\n",
       "      <td>126027.0</td>\n",
       "      <td>2902.0</td>\n",
       "      <td>152.0</td>\n",
       "      <td>201955.0</td>\n",
       "      <td>1729541.0</td>\n",
       "      <td>4484442.0</td>\n",
       "      <td>2195.0</td>\n",
       "      <td>-3081055.0</td>\n",
       "    </tr>\n",
       "    <tr>\n",
       "      <th>BADUM JAMES P</th>\n",
       "      <td>False</td>\n",
       "      <td>NaN</td>\n",
       "      <td>NaN</td>\n",
       "      <td>NaN</td>\n",
       "      <td>3486.0</td>\n",
       "      <td>NaN</td>\n",
       "      <td>257817.0</td>\n",
       "      <td>178980.0</td>\n",
       "      <td>NaN</td>\n",
       "      <td>NaN</td>\n",
       "      <td>...</td>\n",
       "      <td>NaN</td>\n",
       "      <td>NaN</td>\n",
       "      <td>NaN</td>\n",
       "      <td>NaN</td>\n",
       "      <td>NaN</td>\n",
       "      <td>NaN</td>\n",
       "      <td>257817.0</td>\n",
       "      <td>182466.0</td>\n",
       "      <td>NaN</td>\n",
       "      <td>NaN</td>\n",
       "    </tr>\n",
       "    <tr>\n",
       "      <th>BANNANTINE JAMES M</th>\n",
       "      <td>False</td>\n",
       "      <td>-560222.0</td>\n",
       "      <td>NaN</td>\n",
       "      <td>NaN</td>\n",
       "      <td>56301.0</td>\n",
       "      <td>NaN</td>\n",
       "      <td>4046157.0</td>\n",
       "      <td>NaN</td>\n",
       "      <td>james.bannantine@enron.com</td>\n",
       "      <td>0.0</td>\n",
       "      <td>...</td>\n",
       "      <td>NaN</td>\n",
       "      <td>465.0</td>\n",
       "      <td>1757552.0</td>\n",
       "      <td>566.0</td>\n",
       "      <td>864523.0</td>\n",
       "      <td>477.0</td>\n",
       "      <td>5243487.0</td>\n",
       "      <td>916197.0</td>\n",
       "      <td>29.0</td>\n",
       "      <td>-5104.0</td>\n",
       "    </tr>\n",
       "    <tr>\n",
       "      <th>BAXTER JOHN C</th>\n",
       "      <td>False</td>\n",
       "      <td>NaN</td>\n",
       "      <td>1586055.0</td>\n",
       "      <td>1200000.0</td>\n",
       "      <td>11200.0</td>\n",
       "      <td>NaN</td>\n",
       "      <td>6680544.0</td>\n",
       "      <td>1295738.0</td>\n",
       "      <td>NaN</td>\n",
       "      <td>NaN</td>\n",
       "      <td>...</td>\n",
       "      <td>NaN</td>\n",
       "      <td>NaN</td>\n",
       "      <td>3942714.0</td>\n",
       "      <td>NaN</td>\n",
       "      <td>2660303.0</td>\n",
       "      <td>267102.0</td>\n",
       "      <td>10623258.0</td>\n",
       "      <td>5634343.0</td>\n",
       "      <td>NaN</td>\n",
       "      <td>-1386055.0</td>\n",
       "    </tr>\n",
       "    <tr>\n",
       "      <th>BAY FRANKLIN R</th>\n",
       "      <td>False</td>\n",
       "      <td>-82782.0</td>\n",
       "      <td>NaN</td>\n",
       "      <td>400000.0</td>\n",
       "      <td>129142.0</td>\n",
       "      <td>NaN</td>\n",
       "      <td>NaN</td>\n",
       "      <td>260455.0</td>\n",
       "      <td>frank.bay@enron.com</td>\n",
       "      <td>NaN</td>\n",
       "      <td>...</td>\n",
       "      <td>NaN</td>\n",
       "      <td>NaN</td>\n",
       "      <td>145796.0</td>\n",
       "      <td>NaN</td>\n",
       "      <td>69.0</td>\n",
       "      <td>239671.0</td>\n",
       "      <td>63014.0</td>\n",
       "      <td>827696.0</td>\n",
       "      <td>NaN</td>\n",
       "      <td>-201641.0</td>\n",
       "    </tr>\n",
       "  </tbody>\n",
       "</table>\n",
       "<p>5 rows × 21 columns</p>\n",
       "</div>"
      ],
      "text/plain": [
       "                      poi  restricted_stock_deferred  long_term_incentive  \\\n",
       "ALLEN PHILLIP K     False                  -126027.0             304805.0   \n",
       "BADUM JAMES P       False                        NaN                  NaN   \n",
       "BANNANTINE JAMES M  False                  -560222.0                  NaN   \n",
       "BAXTER JOHN C       False                        NaN            1586055.0   \n",
       "BAY FRANKLIN R      False                   -82782.0                  NaN   \n",
       "\n",
       "                        bonus  expenses  director_fees  \\\n",
       "ALLEN PHILLIP K     4175000.0   13868.0            NaN   \n",
       "BADUM JAMES P             NaN    3486.0            NaN   \n",
       "BANNANTINE JAMES M        NaN   56301.0            NaN   \n",
       "BAXTER JOHN C       1200000.0   11200.0            NaN   \n",
       "BAY FRANKLIN R       400000.0  129142.0            NaN   \n",
       "\n",
       "                    exercised_stock_options  deferral_payments  \\\n",
       "ALLEN PHILLIP K                   1729541.0          2869717.0   \n",
       "BADUM JAMES P                      257817.0           178980.0   \n",
       "BANNANTINE JAMES M                4046157.0                NaN   \n",
       "BAXTER JOHN C                     6680544.0          1295738.0   \n",
       "BAY FRANKLIN R                          NaN           260455.0   \n",
       "\n",
       "                                 email_address  from_this_person_to_poi  \\\n",
       "ALLEN PHILLIP K        phillip.allen@enron.com                     65.0   \n",
       "BADUM JAMES P                              NaN                      NaN   \n",
       "BANNANTINE JAMES M  james.bannantine@enron.com                      0.0   \n",
       "BAXTER JOHN C                              NaN                      NaN   \n",
       "BAY FRANKLIN R             frank.bay@enron.com                      NaN   \n",
       "\n",
       "                         ...         loan_advances  shared_receipt_with_poi  \\\n",
       "ALLEN PHILLIP K          ...                   NaN                   1407.0   \n",
       "BADUM JAMES P            ...                   NaN                      NaN   \n",
       "BANNANTINE JAMES M       ...                   NaN                    465.0   \n",
       "BAXTER JOHN C            ...                   NaN                      NaN   \n",
       "BAY FRANKLIN R           ...                   NaN                      NaN   \n",
       "\n",
       "                    restricted_stock  to_messages      other    salary  \\\n",
       "ALLEN PHILLIP K             126027.0       2902.0      152.0  201955.0   \n",
       "BADUM JAMES P                    NaN          NaN        NaN       NaN   \n",
       "BANNANTINE JAMES M         1757552.0        566.0   864523.0     477.0   \n",
       "BAXTER JOHN C              3942714.0          NaN  2660303.0  267102.0   \n",
       "BAY FRANKLIN R              145796.0          NaN       69.0  239671.0   \n",
       "\n",
       "                    total_stock_value  total_payments  from_messages  \\\n",
       "ALLEN PHILLIP K             1729541.0       4484442.0         2195.0   \n",
       "BADUM JAMES P                257817.0        182466.0            NaN   \n",
       "BANNANTINE JAMES M          5243487.0        916197.0           29.0   \n",
       "BAXTER JOHN C              10623258.0       5634343.0            NaN   \n",
       "BAY FRANKLIN R                63014.0        827696.0            NaN   \n",
       "\n",
       "                    deferred_income  \n",
       "ALLEN PHILLIP K          -3081055.0  \n",
       "BADUM JAMES P                   NaN  \n",
       "BANNANTINE JAMES M          -5104.0  \n",
       "BAXTER JOHN C            -1386055.0  \n",
       "BAY FRANKLIN R            -201641.0  \n",
       "\n",
       "[5 rows x 21 columns]"
      ]
     },
     "execution_count": 20,
     "metadata": {},
     "output_type": "execute_result"
    }
   ],
   "source": [
    "feature = [\"poi\"]\n",
    "for f in list(data_frame):\n",
    "    if f!=\"poi\":\n",
    "        feature.append(f)\n",
    "data_frame = data_frame[ feature]\n",
    "data_frame.head()"
   ]
  },
  {
   "cell_type": "markdown",
   "metadata": {},
   "source": [
    "## 2.2 Count non-Na cells for each column (feature)"
   ]
  },
  {
   "cell_type": "code",
   "execution_count": 21,
   "metadata": {},
   "outputs": [
    {
     "name": "stdout",
     "output_type": "stream",
     "text": [
      "                           all  POI\n",
      "bonus                       81   16\n",
      "deferral_payments           38    5\n",
      "deferred_income             49   11\n",
      "director_fees               16    0\n",
      "email_address              111   18\n",
      "exercised_stock_options    101   12\n",
      "expenses                    96   18\n",
      "from_messages               86   14\n",
      "from_poi_to_this_person     86   14\n",
      "from_this_person_to_poi     86   14\n",
      "loan_advances                3    1\n",
      "long_term_incentive         65   12\n",
      "other                       91   18\n",
      "poi                        143   18\n",
      "restricted_stock           110   17\n",
      "restricted_stock_deferred   17    0\n",
      "salary                      94   17\n",
      "shared_receipt_with_poi     86   14\n",
      "to_messages                 86   14\n",
      "total_payments             123   18\n",
      "total_stock_value          126   18\n"
     ]
    }
   ],
   "source": [
    "df_nonNa_Count = data_frame.count() \n",
    "dfPOI_nonNa_Count = data_frame_POI.count()\n",
    "summary = pd.concat([df_nonNa_Count,dfPOI_nonNa_Count],axis=1)\n",
    "summary.columns=([\"all\",\"POI\"])\n",
    "print(summary)"
   ]
  },
  {
   "cell_type": "markdown",
   "metadata": {},
   "source": [
    "==> Take off non-informative feature (email address, feature with nan values for more than half of POI)"
   ]
  },
  {
   "cell_type": "code",
   "execution_count": 22,
   "metadata": {},
   "outputs": [
    {
     "name": "stdout",
     "output_type": "stream",
     "text": [
      "16 features were selected which are the following: ['poi', 'long_term_incentive', 'bonus', 'expenses', 'exercised_stock_options', 'from_this_person_to_poi', 'from_poi_to_this_person', 'shared_receipt_with_poi', 'restricted_stock', 'to_messages', 'other', 'salary', 'total_stock_value', 'total_payments', 'from_messages', 'deferred_income']\n"
     ]
    }
   ],
   "source": [
    "featureSelection = [\"poi\"]\n",
    "featureDrop = [\"email_address\"]\n",
    "for f in feature:\n",
    "    if f!=\"email_address\" and f!=\"poi\":  # non-informative feature\n",
    "        if dfPOI_nonNa_Count[f]>nbPoi/2:# select features with non values for at least half of POI \n",
    "            #if df_nonNa_Count[f]>nbName/2: #(we may check also for non-Poi)\n",
    "                featureSelection.append(f)\n",
    "        else:\n",
    "            featureDrop.append(f)\n",
    "nFeatureSelect = len(featureSelection)\n",
    "print(\"%s features were selected which are the following:\"%nFeatureSelect,featureSelection)"
   ]
  },
  {
   "cell_type": "code",
   "execution_count": 23,
   "metadata": {},
   "outputs": [],
   "source": [
    "data_frame = data_frame.drop(columns=featureDrop)"
   ]
  },
  {
   "cell_type": "markdown",
   "metadata": {},
   "source": [
    "## 2.3. Visualizing features  "
   ]
  },
  {
   "cell_type": "code",
   "execution_count": 24,
   "metadata": {
    "scrolled": false
   },
   "outputs": [
    {
     "data": {
      "image/png": "[encoded data removed]",
      "text/plain": [
       "<matplotlib.figure.Figure at 0x1a1681e9b0>"
      ]
     },
     "metadata": {},
     "output_type": "display_data"
    },
    {
     "data": {
      "image/png": "[encoded data removed]",
      "text/plain": [
       "<matplotlib.figure.Figure at 0x1a16a101d0>"
      ]
     },
     "metadata": {},
     "output_type": "display_data"
    },
    {
     "data": {
      "image/png": "[encoded data removed]",
      "text/plain": [
       "<matplotlib.figure.Figure at 0x1a16a2fe80>"
      ]
     },
     "metadata": {},
     "output_type": "display_data"
    },
    {
     "data": {
      "image/png": "[encoded data removed]",
      "text/plain": [
       "<matplotlib.figure.Figure at 0x1a16afbb00>"
      ]
     },
     "metadata": {},
     "output_type": "display_data"
    },
    {
     "data": {
      "image/png": "[encoded data removed]",
      "text/plain": [
       "<matplotlib.figure.Figure at 0x1a16b1ce80>"
      ]
     },
     "metadata": {},
     "output_type": "display_data"
    },
    {
     "data": {
      "image/png": "[encoded data removed]",
      "text/plain": [
       "<matplotlib.figure.Figure at 0x1a16b46a20>"
      ]
     },
     "metadata": {},
     "output_type": "display_data"
    },
    {
     "data": {
      "image/png": "[encoded data removed]",
      "text/plain": [
       "<matplotlib.figure.Figure at 0x1a16b70b00>"
      ]
     },
     "metadata": {},
     "output_type": "display_data"
    },
    {
     "data": {
      "image/png": "[encoded data removed]",
      "text/plain": [
       "<matplotlib.figure.Figure at 0x1a16b9c630>"
      ]
     },
     "metadata": {},
     "output_type": "display_data"
    },
    {
     "data": {
      "image/png": "[encoded data removed]",
      "text/plain": [
       "<matplotlib.figure.Figure at 0x1a16bbdda0>"
      ]
     },
     "metadata": {},
     "output_type": "display_data"
    },
    {
     "data": {
      "image/png": "[encoded data removed]",
      "text/plain": [
       "<matplotlib.figure.Figure at 0x1a16be5940>"
      ]
     },
     "metadata": {},
     "output_type": "display_data"
    },
    {
     "data": {
      "image/png": "[encoded data removed]",
      "text/plain": [
       "<matplotlib.figure.Figure at 0x1a16c114e0>"
      ]
     },
     "metadata": {},
     "output_type": "display_data"
    },
    {
     "data": {
      "image/png": "[encoded data removed]",
      "text/plain": [
       "<matplotlib.figure.Figure at 0x1a16c34f98>"
      ]
     },
     "metadata": {},
     "output_type": "display_data"
    },
    {
     "data": {
      "image/png": "[encoded data removed]",
      "text/plain": [
       "<matplotlib.figure.Figure at 0x1a16c5a710>"
      ]
     },
     "metadata": {},
     "output_type": "display_data"
    },
    {
     "data": {
      "image/png": "[encoded data removed]",
      "text/plain": [
       "<matplotlib.figure.Figure at 0x1a16c862b0>"
      ]
     },
     "metadata": {},
     "output_type": "display_data"
    },
    {
     "data": {
      "image/png": "[encoded data removed]",
      "text/plain": [
       "<matplotlib.figure.Figure at 0x1a16ca9e10>"
      ]
     },
     "metadata": {},
     "output_type": "display_data"
    }
   ],
   "source": [
    "for f in featureSelection: \n",
    "    if f!=\"poi\":\n",
    "        plt.figure(figsize=(4,2))\n",
    "        plt.scatter([i for i in range(len(data_frame))],data_frame[f])\n",
    "        #plt.title(f)\n",
    "        plt.xlabel('Person ind')\n",
    "        plt.ylabel(f)\n",
    "\n"
   ]
  },
  {
   "cell_type": "code",
   "execution_count": 25,
   "metadata": {
    "scrolled": true
   },
   "outputs": [
    {
     "name": "stdout",
     "output_type": "stream",
     "text": [
      "                        bonus     salary    poi  total_payments\n",
      "FREVERT MARK A      2000000.0  1060932.0  False      17252530.0\n",
      "LAY KENNETH L       7000000.0  1072321.0   True     103559793.0\n",
      "SKILLING JEFFREY K  5600000.0  1111258.0   True       8682716.0\n",
      "                        bonus     salary    poi  total_payments\n",
      "BELDEN TIMOTHY N    5249999.0   213999.0   True       5501630.0\n",
      "LAVORATO JOHN J     8000000.0   339288.0  False      10425757.0\n",
      "LAY KENNETH L       7000000.0  1072321.0   True     103559793.0\n",
      "SKILLING JEFFREY K  5600000.0  1111258.0   True       8682716.0\n",
      "                        bonus    salary    poi  total_payments\n",
      "KAMINSKI WINCENTY J  400000.0  275101.0  False       1086821.0\n"
     ]
    }
   ],
   "source": [
    "## other potential outliers \n",
    "df1= data_frame[(data_frame.salary > 1000000)][['bonus','salary','poi','total_payments']]\n",
    "print(df1)\n",
    "df2= data_frame[(data_frame.bonus > 5000000)][['bonus','salary','poi','total_payments']]\n",
    "print(df2)\n",
    "df2= data_frame[(data_frame.from_messages > 10000)][['bonus','salary','poi','total_payments']]\n",
    "print(df2)"
   ]
  },
  {
   "cell_type": "markdown",
   "metadata": {},
   "source": [
    "## 2.4 Adding new features"
   ]
  },
  {
   "cell_type": "code",
   "execution_count": 26,
   "metadata": {},
   "outputs": [],
   "source": [
    "new_feature = [\"frac_from_this_person_to_poi\",\"frac_from_poi_to_this_person\",\"frac_shared_receipt_with_poi\",\"frac_salary\",\"frac_bonus\"]"
   ]
  },
  {
   "cell_type": "code",
   "execution_count": 27,
   "metadata": {},
   "outputs": [],
   "source": [
    "data_frame[\"frac_from_this_person_to_poi\"] = data_frame[\"from_this_person_to_poi\"].copy() / data_frame['from_messages'].copy()\n",
    "data_frame[\"frac_from_poi_to_this_person\"] = data_frame[\"from_poi_to_this_person\"].copy() / data_frame['to_messages'].copy()\n",
    "data_frame[\"frac_shared_receipt_with_poi\"] = data_frame[\"shared_receipt_with_poi\"].copy() / data_frame['to_messages'].copy()"
   ]
  },
  {
   "cell_type": "code",
   "execution_count": 28,
   "metadata": {},
   "outputs": [],
   "source": [
    "data_frame[\"frac_salary\"] = data_frame[\"salary\"].copy() / data_frame['total_payments'].copy()\n",
    "data_frame[\"frac_bonus\"] = data_frame[\"bonus\"].copy() / data_frame['total_payments'].copy()\n"
   ]
  },
  {
   "cell_type": "markdown",
   "metadata": {},
   "source": [
    "There is no evident cause of taking off these outliers, they may be indicative of POI"
   ]
  },
  {
   "cell_type": "code",
   "execution_count": 29,
   "metadata": {},
   "outputs": [],
   "source": [
    "data_frame = data_frame.fillna('NaN')\n",
    "new_data_dict = data_frame.T.to_dict()"
   ]
  },
  {
   "cell_type": "markdown",
   "metadata": {},
   "source": [
    "# 3. Algorithm and Model Tuning"
   ]
  },
  {
   "cell_type": "markdown",
   "metadata": {},
   "source": [
    "## 3.0.  target-feature split data set to be used in sklearn"
   ]
  },
  {
   "cell_type": "code",
   "execution_count": 30,
   "metadata": {},
   "outputs": [
    {
     "data": {
      "text/html": [
       "<div>\n",
       "<style scoped>\n",
       "    .dataframe tbody tr th:only-of-type {\n",
       "        vertical-align: middle;\n",
       "    }\n",
       "\n",
       "    .dataframe tbody tr th {\n",
       "        vertical-align: top;\n",
       "    }\n",
       "\n",
       "    .dataframe thead th {\n",
       "        text-align: right;\n",
       "    }\n",
       "</style>\n",
       "<table border=\"1\" class=\"dataframe\">\n",
       "  <thead>\n",
       "    <tr style=\"text-align: right;\">\n",
       "      <th></th>\n",
       "      <th>frac_salary</th>\n",
       "      <th>poi</th>\n",
       "      <th>long_term_incentive</th>\n",
       "      <th>frac_from_this_person_to_poi</th>\n",
       "      <th>other</th>\n",
       "      <th>bonus</th>\n",
       "      <th>exercised_stock_options</th>\n",
       "      <th>from_this_person_to_poi</th>\n",
       "      <th>from_poi_to_this_person</th>\n",
       "      <th>expenses</th>\n",
       "      <th>...</th>\n",
       "      <th>frac_from_poi_to_this_person</th>\n",
       "      <th>to_messages</th>\n",
       "      <th>frac_shared_receipt_with_poi</th>\n",
       "      <th>salary</th>\n",
       "      <th>total_stock_value</th>\n",
       "      <th>shared_receipt_with_poi</th>\n",
       "      <th>frac_bonus</th>\n",
       "      <th>total_payments</th>\n",
       "      <th>from_messages</th>\n",
       "      <th>deferred_income</th>\n",
       "    </tr>\n",
       "  </thead>\n",
       "  <tbody>\n",
       "    <tr>\n",
       "      <th>ALLEN PHILLIP K</th>\n",
       "      <td>0.045035</td>\n",
       "      <td>False</td>\n",
       "      <td>304805.0</td>\n",
       "      <td>0.029613</td>\n",
       "      <td>152.0</td>\n",
       "      <td>4175000.0</td>\n",
       "      <td>1729541.0</td>\n",
       "      <td>65.0</td>\n",
       "      <td>47.0</td>\n",
       "      <td>13868.0</td>\n",
       "      <td>...</td>\n",
       "      <td>0.016196</td>\n",
       "      <td>2902.0</td>\n",
       "      <td>0.484838</td>\n",
       "      <td>201955.0</td>\n",
       "      <td>1729541.0</td>\n",
       "      <td>1407.0</td>\n",
       "      <td>0.930997</td>\n",
       "      <td>4484442.0</td>\n",
       "      <td>2195.0</td>\n",
       "      <td>-3081055.0</td>\n",
       "    </tr>\n",
       "    <tr>\n",
       "      <th>BADUM JAMES P</th>\n",
       "      <td>0.000000</td>\n",
       "      <td>False</td>\n",
       "      <td>0.0</td>\n",
       "      <td>0.000000</td>\n",
       "      <td>0.0</td>\n",
       "      <td>0.0</td>\n",
       "      <td>257817.0</td>\n",
       "      <td>0.0</td>\n",
       "      <td>0.0</td>\n",
       "      <td>3486.0</td>\n",
       "      <td>...</td>\n",
       "      <td>0.000000</td>\n",
       "      <td>0.0</td>\n",
       "      <td>0.000000</td>\n",
       "      <td>0.0</td>\n",
       "      <td>257817.0</td>\n",
       "      <td>0.0</td>\n",
       "      <td>0.000000</td>\n",
       "      <td>182466.0</td>\n",
       "      <td>0.0</td>\n",
       "      <td>0.0</td>\n",
       "    </tr>\n",
       "    <tr>\n",
       "      <th>BANNANTINE JAMES M</th>\n",
       "      <td>0.000521</td>\n",
       "      <td>False</td>\n",
       "      <td>0.0</td>\n",
       "      <td>0.000000</td>\n",
       "      <td>864523.0</td>\n",
       "      <td>0.0</td>\n",
       "      <td>4046157.0</td>\n",
       "      <td>0.0</td>\n",
       "      <td>39.0</td>\n",
       "      <td>56301.0</td>\n",
       "      <td>...</td>\n",
       "      <td>0.068905</td>\n",
       "      <td>566.0</td>\n",
       "      <td>0.821555</td>\n",
       "      <td>477.0</td>\n",
       "      <td>5243487.0</td>\n",
       "      <td>465.0</td>\n",
       "      <td>0.000000</td>\n",
       "      <td>916197.0</td>\n",
       "      <td>29.0</td>\n",
       "      <td>-5104.0</td>\n",
       "    </tr>\n",
       "    <tr>\n",
       "      <th>BAXTER JOHN C</th>\n",
       "      <td>0.047406</td>\n",
       "      <td>False</td>\n",
       "      <td>1586055.0</td>\n",
       "      <td>0.000000</td>\n",
       "      <td>2660303.0</td>\n",
       "      <td>1200000.0</td>\n",
       "      <td>6680544.0</td>\n",
       "      <td>0.0</td>\n",
       "      <td>0.0</td>\n",
       "      <td>11200.0</td>\n",
       "      <td>...</td>\n",
       "      <td>0.000000</td>\n",
       "      <td>0.0</td>\n",
       "      <td>0.000000</td>\n",
       "      <td>267102.0</td>\n",
       "      <td>10623258.0</td>\n",
       "      <td>0.0</td>\n",
       "      <td>0.212980</td>\n",
       "      <td>5634343.0</td>\n",
       "      <td>0.0</td>\n",
       "      <td>-1386055.0</td>\n",
       "    </tr>\n",
       "    <tr>\n",
       "      <th>BAY FRANKLIN R</th>\n",
       "      <td>0.289564</td>\n",
       "      <td>False</td>\n",
       "      <td>0.0</td>\n",
       "      <td>0.000000</td>\n",
       "      <td>69.0</td>\n",
       "      <td>400000.0</td>\n",
       "      <td>0.0</td>\n",
       "      <td>0.0</td>\n",
       "      <td>0.0</td>\n",
       "      <td>129142.0</td>\n",
       "      <td>...</td>\n",
       "      <td>0.000000</td>\n",
       "      <td>0.0</td>\n",
       "      <td>0.000000</td>\n",
       "      <td>239671.0</td>\n",
       "      <td>63014.0</td>\n",
       "      <td>0.0</td>\n",
       "      <td>0.483269</td>\n",
       "      <td>827696.0</td>\n",
       "      <td>0.0</td>\n",
       "      <td>-201641.0</td>\n",
       "    </tr>\n",
       "  </tbody>\n",
       "</table>\n",
       "<p>5 rows × 21 columns</p>\n",
       "</div>"
      ],
      "text/plain": [
       "                    frac_salary    poi  long_term_incentive  \\\n",
       "ALLEN PHILLIP K        0.045035  False             304805.0   \n",
       "BADUM JAMES P          0.000000  False                  0.0   \n",
       "BANNANTINE JAMES M     0.000521  False                  0.0   \n",
       "BAXTER JOHN C          0.047406  False            1586055.0   \n",
       "BAY FRANKLIN R         0.289564  False                  0.0   \n",
       "\n",
       "                    frac_from_this_person_to_poi      other      bonus  \\\n",
       "ALLEN PHILLIP K                         0.029613      152.0  4175000.0   \n",
       "BADUM JAMES P                           0.000000        0.0        0.0   \n",
       "BANNANTINE JAMES M                      0.000000   864523.0        0.0   \n",
       "BAXTER JOHN C                           0.000000  2660303.0  1200000.0   \n",
       "BAY FRANKLIN R                          0.000000       69.0   400000.0   \n",
       "\n",
       "                    exercised_stock_options  from_this_person_to_poi  \\\n",
       "ALLEN PHILLIP K                   1729541.0                     65.0   \n",
       "BADUM JAMES P                      257817.0                      0.0   \n",
       "BANNANTINE JAMES M                4046157.0                      0.0   \n",
       "BAXTER JOHN C                     6680544.0                      0.0   \n",
       "BAY FRANKLIN R                          0.0                      0.0   \n",
       "\n",
       "                    from_poi_to_this_person  expenses       ...         \\\n",
       "ALLEN PHILLIP K                        47.0   13868.0       ...          \n",
       "BADUM JAMES P                           0.0    3486.0       ...          \n",
       "BANNANTINE JAMES M                     39.0   56301.0       ...          \n",
       "BAXTER JOHN C                           0.0   11200.0       ...          \n",
       "BAY FRANKLIN R                          0.0  129142.0       ...          \n",
       "\n",
       "                    frac_from_poi_to_this_person  to_messages  \\\n",
       "ALLEN PHILLIP K                         0.016196       2902.0   \n",
       "BADUM JAMES P                           0.000000          0.0   \n",
       "BANNANTINE JAMES M                      0.068905        566.0   \n",
       "BAXTER JOHN C                           0.000000          0.0   \n",
       "BAY FRANKLIN R                          0.000000          0.0   \n",
       "\n",
       "                    frac_shared_receipt_with_poi    salary  total_stock_value  \\\n",
       "ALLEN PHILLIP K                         0.484838  201955.0          1729541.0   \n",
       "BADUM JAMES P                           0.000000       0.0           257817.0   \n",
       "BANNANTINE JAMES M                      0.821555     477.0          5243487.0   \n",
       "BAXTER JOHN C                           0.000000  267102.0         10623258.0   \n",
       "BAY FRANKLIN R                          0.000000  239671.0            63014.0   \n",
       "\n",
       "                    shared_receipt_with_poi  frac_bonus  total_payments  \\\n",
       "ALLEN PHILLIP K                      1407.0    0.930997       4484442.0   \n",
       "BADUM JAMES P                           0.0    0.000000        182466.0   \n",
       "BANNANTINE JAMES M                    465.0    0.000000        916197.0   \n",
       "BAXTER JOHN C                           0.0    0.212980       5634343.0   \n",
       "BAY FRANKLIN R                          0.0    0.483269        827696.0   \n",
       "\n",
       "                    from_messages  deferred_income  \n",
       "ALLEN PHILLIP K            2195.0       -3081055.0  \n",
       "BADUM JAMES P                 0.0              0.0  \n",
       "BANNANTINE JAMES M           29.0          -5104.0  \n",
       "BAXTER JOHN C                 0.0       -1386055.0  \n",
       "BAY FRANKLIN R                0.0        -201641.0  \n",
       "\n",
       "[5 rows x 21 columns]"
      ]
     },
     "execution_count": 30,
     "metadata": {},
     "output_type": "execute_result"
    }
   ],
   "source": [
    "data_frame = dict_to_dataframe(new_data_dict)\n",
    "data_frame.head()"
   ]
  },
  {
   "cell_type": "code",
   "execution_count": 31,
   "metadata": {},
   "outputs": [],
   "source": [
    "target_arr,feature_arr = classLabel_feature_split(new_data_dict, target =\"poi\",featureList= featureSelection[1:])"
   ]
  },
  {
   "cell_type": "markdown",
   "metadata": {},
   "source": [
    "## 3.1. Define Scaling  and dimensionality reduction "
   ]
  },
  {
   "cell_type": "code",
   "execution_count": 32,
   "metadata": {},
   "outputs": [
    {
     "name": "stdout",
     "output_type": "stream",
     "text": [
      "[('standardscaler', StandardScaler(copy=True, with_mean=True, with_std=True)), ('selectkbest', SelectKBest(k=10, score_func=<function f_classif at 0x1a0ac8b840>))]\n"
     ]
    }
   ],
   "source": [
    "#dimReduce = FeatureUnion([('kbest', SelectKBest(f_classif)),('pca', PCA())])\n",
    "#preprocessing  = make_pipeline (StandardScaler(),dimReduce)\n",
    "#print(preprocessing.steps)\n",
    "#preprocessing_param = {\n",
    "#                    'pipeline__featureunion__kbest__k':[5,10,15],# [2, 3, 4, 5, 7, 10],# added pipeline to the key to be able to access it one used to update classifier_param \n",
    "#                    'pipeline__featureunion__pca__n_components':[5,10,15]#[2,5, 10]\n",
    "#                    }\n",
    "preprocessing = make_pipeline(StandardScaler(),SelectKBest(f_classif))\n",
    "print(preprocessing.steps)\n",
    "preprocessing_param = {\n",
    "                    'pipeline__selectkbest__k':[2,3,4,5,6,7,8,\"all\"]#,7,9,10,13,'all']#,[ 2, 3, 4, 5, 7, 10],# added pipeline to the key to be able to access it one used to update classifier_param \n",
    "                    }"
   ]
  },
  {
   "cell_type": "markdown",
   "metadata": {},
   "source": [
    "## 3.2. Define Classifier "
   ]
  },
  {
   "cell_type": "markdown",
   "metadata": {},
   "source": [
    "* SVM"
   ]
  },
  {
   "cell_type": "code",
   "execution_count": 33,
   "metadata": {},
   "outputs": [
    {
     "name": "stdout",
     "output_type": "stream",
     "text": [
      "[('pipeline', Pipeline(memory=None,\n",
      "     steps=[('standardscaler', StandardScaler(copy=True, with_mean=True, with_std=True)), ('selectkbest', SelectKBest(k=10, score_func=<function f_classif at 0x1a0ac8b840>))])), ('svc', SVC(C=1.0, cache_size=200, class_weight=None, coef0=0.0,\n",
      "  decision_function_shape='ovr', degree=3, gamma='auto', kernel='rbf',\n",
      "  max_iter=-1, probability=False, random_state=None, shrinking=True,\n",
      "  tol=0.001, verbose=False))]\n"
     ]
    }
   ],
   "source": [
    "svm_clf = make_pipeline(preprocessing,svm.SVC())\n",
    "print(svm_clf.steps)\n",
    "svm_param ={\n",
    "        'svc__C': [1,10,100],\n",
    "        'svc__gamma': [0.5,0.1,0.05],\n",
    "        'svc__kernel': ['poly','rbf']    }\n",
    "svm_param.update(preprocessing_param)"
   ]
  },
  {
   "cell_type": "markdown",
   "metadata": {},
   "source": [
    "* Gaussian Naive Bayes"
   ]
  },
  {
   "cell_type": "code",
   "execution_count": 34,
   "metadata": {},
   "outputs": [
    {
     "name": "stdout",
     "output_type": "stream",
     "text": [
      "[('pipeline', Pipeline(memory=None,\n",
      "     steps=[('standardscaler', StandardScaler(copy=True, with_mean=True, with_std=True)), ('selectkbest', SelectKBest(k=10, score_func=<function f_classif at 0x1a0ac8b840>))])), ('gaussiannb', GaussianNB(priors=None))]\n"
     ]
    }
   ],
   "source": [
    "naiveBayes_clf = make_pipeline(preprocessing,GaussianNB())\n",
    "print(naiveBayes_clf.steps)\n",
    "\n",
    "naiveBayes_param = {\n",
    "        #'gaussiannb__':[],\n",
    "    }\n",
    "naiveBayes_param.update(preprocessing_param)"
   ]
  },
  {
   "cell_type": "markdown",
   "metadata": {},
   "source": [
    "* Decision Tree Classifier\n"
   ]
  },
  {
   "cell_type": "code",
   "execution_count": 35,
   "metadata": {},
   "outputs": [
    {
     "name": "stdout",
     "output_type": "stream",
     "text": [
      "[('pipeline', Pipeline(memory=None,\n",
      "     steps=[('standardscaler', StandardScaler(copy=True, with_mean=True, with_std=True)), ('selectkbest', SelectKBest(k=10, score_func=<function f_classif at 0x1a0ac8b840>))])), ('decisiontreeclassifier', DecisionTreeClassifier(class_weight=None, criterion='gini', max_depth=None,\n",
      "            max_features=None, max_leaf_nodes=None,\n",
      "            min_impurity_decrease=0.0, min_impurity_split=None,\n",
      "            min_samples_leaf=1, min_samples_split=2,\n",
      "            min_weight_fraction_leaf=0.0, presort=False, random_state=None,\n",
      "            splitter='best'))]\n"
     ]
    }
   ],
   "source": [
    "decisionTree_clf = make_pipeline(preprocessing,DecisionTreeClassifier())\n",
    "print(decisionTree_clf.steps)\n",
    "decisionTree_param = {\n",
    "        'decisiontreeclassifier__min_samples_split': [2,3,4,5,6,7,8]\n",
    "    }\n",
    "decisionTree_param.update(preprocessing_param)\n"
   ]
  },
  {
   "cell_type": "markdown",
   "metadata": {},
   "source": [
    "* K-Neighbors Classifier\n"
   ]
  },
  {
   "cell_type": "code",
   "execution_count": 36,
   "metadata": {},
   "outputs": [
    {
     "name": "stdout",
     "output_type": "stream",
     "text": [
      "[('pipeline', Pipeline(memory=None,\n",
      "     steps=[('standardscaler', StandardScaler(copy=True, with_mean=True, with_std=True)), ('selectkbest', SelectKBest(k=10, score_func=<function f_classif at 0x1a0ac8b840>))])), ('kneighborsclassifier', KNeighborsClassifier(algorithm='auto', leaf_size=30, metric='minkowski',\n",
      "           metric_params=None, n_jobs=1, n_neighbors=5, p=2,\n",
      "           weights='uniform'))]\n"
     ]
    }
   ],
   "source": [
    "kNeighbors_clf = make_pipeline(preprocessing,KNeighborsClassifier())\n",
    "print(kNeighbors_clf.steps)\n",
    "kNeighbors_param = {\n",
    "        'kneighborsclassifier__n_neighbors': [2,3,4,5,6,7]\n",
    "    }\n",
    "kNeighbors_param.update(preprocessing_param)"
   ]
  },
  {
   "cell_type": "markdown",
   "metadata": {},
   "source": [
    "* Random Forest Classifier\n"
   ]
  },
  {
   "cell_type": "code",
   "execution_count": 37,
   "metadata": {},
   "outputs": [
    {
     "name": "stdout",
     "output_type": "stream",
     "text": [
      "[('pipeline', Pipeline(memory=None,\n",
      "     steps=[('standardscaler', StandardScaler(copy=True, with_mean=True, with_std=True)), ('selectkbest', SelectKBest(k=10, score_func=<function f_classif at 0x1a0ac8b840>))])), ('randomforestclassifier', RandomForestClassifier(bootstrap=True, class_weight=None, criterion='gini',\n",
      "            max_depth=None, max_features='auto', max_leaf_nodes=None,\n",
      "            min_impurity_decrease=0.0, min_impurity_split=None,\n",
      "            min_samples_leaf=1, min_samples_split=2,\n",
      "            min_weight_fraction_leaf=0.0, n_estimators=10, n_jobs=1,\n",
      "            oob_score=False, random_state=None, verbose=0,\n",
      "            warm_start=False))]\n"
     ]
    }
   ],
   "source": [
    "randomForest_clf = make_pipeline(preprocessing,RandomForestClassifier())\n",
    "print(randomForest_clf.steps)\n",
    "randomForest_param = {\n",
    "        'randomforestclassifier__n_estimators': [4,5,7,8]\n",
    "    }\n",
    "randomForest_param.update(preprocessing_param)"
   ]
  },
  {
   "cell_type": "markdown",
   "metadata": {},
   "source": [
    "## 3.3 Models Tuning"
   ]
  },
  {
   "cell_type": "code",
   "execution_count": 38,
   "metadata": {
    "scrolled": false
   },
   "outputs": [
    {
     "name": "stdout",
     "output_type": "stream",
     "text": [
      "0\n",
      "1\n",
      "2\n",
      "3\n",
      "4\n"
     ]
    }
   ],
   "source": [
    "clf_name = [\"SVM\",\"NaiveBayes\",\"DecisionTree\",\"K-Neighbors\",\"RandomForest\"]\n",
    "model = [svm_clf,naiveBayes_clf,decisionTree_clf,kNeighbors_clf,randomForest_clf]\n",
    "param = [svm_param,naiveBayes_param,decisionTree_param,kNeighbors_param,randomForest_param]\n",
    "\n",
    "grid_search = {}\n",
    "for m in range(len(clf_name)):\n",
    "        print(m)\n",
    "        grid_search[m] = GridSearchCV(model[m], [param[m]], scoring='recall',cv=10).fit(feature_arr, target_arr)\n"
   ]
  },
  {
   "cell_type": "markdown",
   "metadata": {},
   "source": [
    "## 3.4. Model Evaluation"
   ]
  },
  {
   "cell_type": "code",
   "execution_count": 39,
   "metadata": {},
   "outputs": [
    {
     "name": "stdout",
     "output_type": "stream",
     "text": [
      "#=========== pipeline steps==================================\n",
      "[('pipeline', Pipeline(memory=None,\n",
      "     steps=[('standardscaler', StandardScaler(copy=True, with_mean=True, with_std=True)), ('selectkbest', SelectKBest(k='all', score_func=<function f_classif at 0x1a0ac8b840>))])), ('svc', SVC(C=100, cache_size=200, class_weight=None, coef0=0.0,\n",
      "  decision_function_shape='ovr', degree=3, gamma=0.5, kernel='poly',\n",
      "  max_iter=-1, probability=False, random_state=None, shrinking=True,\n",
      "  tol=0.001, verbose=False))]\n",
      "#=================================\n",
      "Accuracy: 0.80 Precision: 0.30 Recall: 0.34 F1: 0.32 F2: 0.33\n",
      "trueNegative: 75.8% falsePositive: 10.8% falseNegative: 8.7% truePositive: 4.6%\n",
      "#==================================================================\n",
      "#=========== pipeline steps==================================\n",
      "[('pipeline', Pipeline(memory=None,\n",
      "     steps=[('standardscaler', StandardScaler(copy=True, with_mean=True, with_std=True)), ('selectkbest', SelectKBest(k=5, score_func=<function f_classif at 0x1a0ac8b840>))])), ('gaussiannb', GaussianNB(priors=None))]\n",
      "#=================================\n",
      "Accuracy: 0.84 Precision: 0.38 Recall: 0.32 F1: 0.35 F2: 0.33\n",
      "trueNegative: 79.7% falsePositive: 6.9% falseNegative: 9.1% truePositive: 4.3%\n",
      "#==================================================================\n",
      "#=========== pipeline steps==================================\n",
      "[('pipeline', Pipeline(memory=None,\n",
      "     steps=[('standardscaler', StandardScaler(copy=True, with_mean=True, with_std=True)), ('selectkbest', SelectKBest(k=4, score_func=<function f_classif at 0x1a0ac8b840>))])), ('decisiontreeclassifier', DecisionTreeClassifier(class_weight=None, criterion='gini', max_depth=None,\n",
      "            max_features=None, max_leaf_nodes=None,\n",
      "            min_impurity_decrease=0.0, min_impurity_split=None,\n",
      "            min_samples_leaf=1, min_samples_split=2,\n",
      "            min_weight_fraction_leaf=0.0, presort=False, random_state=None,\n",
      "            splitter='best'))]\n",
      "#=================================\n",
      "Accuracy: 0.80 Precision: 0.27 Recall: 0.29 F1: 0.28 F2: 0.28\n",
      "trueNegative: 76.2% falsePositive: 10.5% falseNegative: 9.5% truePositive: 3.8%\n",
      "#==================================================================\n",
      "#=========== pipeline steps==================================\n",
      "[('pipeline', Pipeline(memory=None,\n",
      "     steps=[('standardscaler', StandardScaler(copy=True, with_mean=True, with_std=True)), ('selectkbest', SelectKBest(k=4, score_func=<function f_classif at 0x1a0ac8b840>))])), ('kneighborsclassifier', KNeighborsClassifier(algorithm='auto', leaf_size=30, metric='minkowski',\n",
      "           metric_params=None, n_jobs=1, n_neighbors=3, p=2,\n",
      "           weights='uniform'))]\n",
      "#=================================\n",
      "Accuracy: 0.85 Precision: 0.40 Recall: 0.20 F1: 0.27 F2: 0.22\n",
      "trueNegative: 82.8% falsePositive: 3.9% falseNegative: 10.7% truePositive: 2.6%\n",
      "#==================================================================\n",
      "#=========== pipeline steps==================================\n",
      "[('pipeline', Pipeline(memory=None,\n",
      "     steps=[('standardscaler', StandardScaler(copy=True, with_mean=True, with_std=True)), ('selectkbest', SelectKBest(k=3, score_func=<function f_classif at 0x1a0ac8b840>))])), ('randomforestclassifier', RandomForestClassifier(bootstrap=True, class_weight=None, criterion='gini',\n",
      "            max_depth=None, max_features='auto', max_leaf_nodes=None,\n",
      "            min_impurity_decrease=0.0, min_impurity_split=None,\n",
      "            min_samples_leaf=1, min_samples_split=2,\n",
      "            min_weight_fraction_leaf=0.0, n_estimators=5, n_jobs=1,\n",
      "            oob_score=False, random_state=None, verbose=0,\n",
      "            warm_start=False))]\n",
      "#=================================\n",
      "Accuracy: 0.85 Precision: 0.39 Recall: 0.26 F1: 0.31 F2: 0.28\n",
      "trueNegative: 81.3% falsePositive: 5.4% falseNegative: 9.9% truePositive: 3.5%\n",
      "#==================================================================\n"
     ]
    }
   ],
   "source": [
    "res = []\n",
    "selectKbest = []\n",
    "for m in range(len(clf_name)):\n",
    "    classifier = grid_search[m].best_estimator_\n",
    "    stats = evaluate_classifier(classifier,new_data_dict,\"poi\",featureSelection[1:],nbFold=1000)\n",
    "    res.append(stats)\n",
    "    selector = classifier.named_steps['pipeline'].get_params()['selectkbest']\n",
    "    k = selector.k\n",
    "    selectInd = selector.get_support(indices=True)\n",
    "    l = (len(featureSelection)-1)*[0]\n",
    "    for i in selectInd:\n",
    "        l[i]=1\n",
    "    l.append(k)\n",
    "    selectKbest.append(l)\n"
   ]
  },
  {
   "cell_type": "code",
   "execution_count": 40,
   "metadata": {},
   "outputs": [
    {
     "data": {
      "text/html": [
       "<div>\n",
       "<style scoped>\n",
       "    .dataframe tbody tr th:only-of-type {\n",
       "        vertical-align: middle;\n",
       "    }\n",
       "\n",
       "    .dataframe tbody tr th {\n",
       "        vertical-align: top;\n",
       "    }\n",
       "\n",
       "    .dataframe thead th {\n",
       "        text-align: right;\n",
       "    }\n",
       "</style>\n",
       "<table border=\"1\" class=\"dataframe\">\n",
       "  <thead>\n",
       "    <tr style=\"text-align: right;\">\n",
       "      <th></th>\n",
       "      <th>Accuracy</th>\n",
       "      <th>Precision</th>\n",
       "      <th>Recall</th>\n",
       "      <th>F1</th>\n",
       "      <th>F2</th>\n",
       "      <th>%TrueNeg</th>\n",
       "      <th>%FalsePos</th>\n",
       "      <th>%FalseNeg</th>\n",
       "      <th>%TruePos</th>\n",
       "    </tr>\n",
       "  </thead>\n",
       "  <tbody>\n",
       "    <tr>\n",
       "      <th>SVM</th>\n",
       "      <td>0.804133</td>\n",
       "      <td>0.297496</td>\n",
       "      <td>0.3445</td>\n",
       "      <td>0.319277</td>\n",
       "      <td>0.333947</td>\n",
       "      <td>75.820000</td>\n",
       "      <td>10.846667</td>\n",
       "      <td>8.740000</td>\n",
       "      <td>4.593333</td>\n",
       "    </tr>\n",
       "    <tr>\n",
       "      <th>NaiveBayes</th>\n",
       "      <td>0.840133</td>\n",
       "      <td>0.381688</td>\n",
       "      <td>0.3210</td>\n",
       "      <td>0.348724</td>\n",
       "      <td>0.331543</td>\n",
       "      <td>79.733333</td>\n",
       "      <td>6.933333</td>\n",
       "      <td>9.053333</td>\n",
       "      <td>4.280000</td>\n",
       "    </tr>\n",
       "    <tr>\n",
       "      <th>DecisionTree</th>\n",
       "      <td>0.800333</td>\n",
       "      <td>0.268281</td>\n",
       "      <td>0.2880</td>\n",
       "      <td>0.277791</td>\n",
       "      <td>0.283828</td>\n",
       "      <td>76.193333</td>\n",
       "      <td>10.473333</td>\n",
       "      <td>9.493333</td>\n",
       "      <td>3.840000</td>\n",
       "    </tr>\n",
       "    <tr>\n",
       "      <th>K-Neighbors</th>\n",
       "      <td>0.854067</td>\n",
       "      <td>0.403670</td>\n",
       "      <td>0.1980</td>\n",
       "      <td>0.265683</td>\n",
       "      <td>0.220465</td>\n",
       "      <td>82.766667</td>\n",
       "      <td>3.900000</td>\n",
       "      <td>10.693333</td>\n",
       "      <td>2.640000</td>\n",
       "    </tr>\n",
       "    <tr>\n",
       "      <th>RandomForest</th>\n",
       "      <td>0.847867</td>\n",
       "      <td>0.393505</td>\n",
       "      <td>0.2605</td>\n",
       "      <td>0.313478</td>\n",
       "      <td>0.279387</td>\n",
       "      <td>81.313333</td>\n",
       "      <td>5.353333</td>\n",
       "      <td>9.860000</td>\n",
       "      <td>3.473333</td>\n",
       "    </tr>\n",
       "  </tbody>\n",
       "</table>\n",
       "</div>"
      ],
      "text/plain": [
       "              Accuracy  Precision  Recall        F1        F2   %TrueNeg  \\\n",
       "SVM           0.804133   0.297496  0.3445  0.319277  0.333947  75.820000   \n",
       "NaiveBayes    0.840133   0.381688  0.3210  0.348724  0.331543  79.733333   \n",
       "DecisionTree  0.800333   0.268281  0.2880  0.277791  0.283828  76.193333   \n",
       "K-Neighbors   0.854067   0.403670  0.1980  0.265683  0.220465  82.766667   \n",
       "RandomForest  0.847867   0.393505  0.2605  0.313478  0.279387  81.313333   \n",
       "\n",
       "              %FalsePos  %FalseNeg  %TruePos  \n",
       "SVM           10.846667   8.740000  4.593333  \n",
       "NaiveBayes     6.933333   9.053333  4.280000  \n",
       "DecisionTree  10.473333   9.493333  3.840000  \n",
       "K-Neighbors    3.900000  10.693333  2.640000  \n",
       "RandomForest   5.353333   9.860000  3.473333  "
      ]
     },
     "execution_count": 40,
     "metadata": {},
     "output_type": "execute_result"
    }
   ],
   "source": [
    "pd.DataFrame(res,index=clf_name,columns= [\"Accuracy\", \"Precision\", \"Recall\", \"F1\", \"F2\",\"%TrueNeg\", \"%FalsePos\", \"%FalseNeg\", \"%TruePos\"])"
   ]
  },
  {
   "cell_type": "code",
   "execution_count": 41,
   "metadata": {},
   "outputs": [
    {
     "data": {
      "text/html": [
       "<div>\n",
       "<style scoped>\n",
       "    .dataframe tbody tr th:only-of-type {\n",
       "        vertical-align: middle;\n",
       "    }\n",
       "\n",
       "    .dataframe tbody tr th {\n",
       "        vertical-align: top;\n",
       "    }\n",
       "\n",
       "    .dataframe thead th {\n",
       "        text-align: right;\n",
       "    }\n",
       "</style>\n",
       "<table border=\"1\" class=\"dataframe\">\n",
       "  <thead>\n",
       "    <tr style=\"text-align: right;\">\n",
       "      <th></th>\n",
       "      <th>SVM</th>\n",
       "      <th>NaiveBayes</th>\n",
       "      <th>DecisionTree</th>\n",
       "      <th>K-Neighbors</th>\n",
       "      <th>RandomForest</th>\n",
       "    </tr>\n",
       "  </thead>\n",
       "  <tbody>\n",
       "    <tr>\n",
       "      <th>long_term_incentive</th>\n",
       "      <td>1</td>\n",
       "      <td>0</td>\n",
       "      <td>0</td>\n",
       "      <td>0</td>\n",
       "      <td>0</td>\n",
       "    </tr>\n",
       "    <tr>\n",
       "      <th>bonus</th>\n",
       "      <td>1</td>\n",
       "      <td>1</td>\n",
       "      <td>1</td>\n",
       "      <td>1</td>\n",
       "      <td>0</td>\n",
       "    </tr>\n",
       "    <tr>\n",
       "      <th>expenses</th>\n",
       "      <td>1</td>\n",
       "      <td>0</td>\n",
       "      <td>0</td>\n",
       "      <td>0</td>\n",
       "      <td>0</td>\n",
       "    </tr>\n",
       "    <tr>\n",
       "      <th>exercised_stock_options</th>\n",
       "      <td>1</td>\n",
       "      <td>1</td>\n",
       "      <td>1</td>\n",
       "      <td>1</td>\n",
       "      <td>1</td>\n",
       "    </tr>\n",
       "    <tr>\n",
       "      <th>from_this_person_to_poi</th>\n",
       "      <td>1</td>\n",
       "      <td>0</td>\n",
       "      <td>0</td>\n",
       "      <td>0</td>\n",
       "      <td>0</td>\n",
       "    </tr>\n",
       "    <tr>\n",
       "      <th>from_poi_to_this_person</th>\n",
       "      <td>1</td>\n",
       "      <td>0</td>\n",
       "      <td>0</td>\n",
       "      <td>0</td>\n",
       "      <td>0</td>\n",
       "    </tr>\n",
       "    <tr>\n",
       "      <th>shared_receipt_with_poi</th>\n",
       "      <td>1</td>\n",
       "      <td>0</td>\n",
       "      <td>0</td>\n",
       "      <td>0</td>\n",
       "      <td>0</td>\n",
       "    </tr>\n",
       "    <tr>\n",
       "      <th>restricted_stock</th>\n",
       "      <td>1</td>\n",
       "      <td>1</td>\n",
       "      <td>0</td>\n",
       "      <td>0</td>\n",
       "      <td>0</td>\n",
       "    </tr>\n",
       "    <tr>\n",
       "      <th>to_messages</th>\n",
       "      <td>1</td>\n",
       "      <td>0</td>\n",
       "      <td>0</td>\n",
       "      <td>0</td>\n",
       "      <td>0</td>\n",
       "    </tr>\n",
       "    <tr>\n",
       "      <th>other</th>\n",
       "      <td>1</td>\n",
       "      <td>0</td>\n",
       "      <td>0</td>\n",
       "      <td>0</td>\n",
       "      <td>0</td>\n",
       "    </tr>\n",
       "    <tr>\n",
       "      <th>salary</th>\n",
       "      <td>1</td>\n",
       "      <td>1</td>\n",
       "      <td>1</td>\n",
       "      <td>1</td>\n",
       "      <td>1</td>\n",
       "    </tr>\n",
       "    <tr>\n",
       "      <th>total_stock_value</th>\n",
       "      <td>1</td>\n",
       "      <td>1</td>\n",
       "      <td>1</td>\n",
       "      <td>1</td>\n",
       "      <td>1</td>\n",
       "    </tr>\n",
       "    <tr>\n",
       "      <th>total_payments</th>\n",
       "      <td>1</td>\n",
       "      <td>0</td>\n",
       "      <td>0</td>\n",
       "      <td>0</td>\n",
       "      <td>0</td>\n",
       "    </tr>\n",
       "    <tr>\n",
       "      <th>from_messages</th>\n",
       "      <td>1</td>\n",
       "      <td>0</td>\n",
       "      <td>0</td>\n",
       "      <td>0</td>\n",
       "      <td>0</td>\n",
       "    </tr>\n",
       "    <tr>\n",
       "      <th>deferred_income</th>\n",
       "      <td>1</td>\n",
       "      <td>0</td>\n",
       "      <td>0</td>\n",
       "      <td>0</td>\n",
       "      <td>0</td>\n",
       "    </tr>\n",
       "    <tr>\n",
       "      <th>kbest</th>\n",
       "      <td>all</td>\n",
       "      <td>5</td>\n",
       "      <td>4</td>\n",
       "      <td>4</td>\n",
       "      <td>3</td>\n",
       "    </tr>\n",
       "  </tbody>\n",
       "</table>\n",
       "</div>"
      ],
      "text/plain": [
       "                         SVM NaiveBayes DecisionTree K-Neighbors RandomForest\n",
       "long_term_incentive        1          0            0           0            0\n",
       "bonus                      1          1            1           1            0\n",
       "expenses                   1          0            0           0            0\n",
       "exercised_stock_options    1          1            1           1            1\n",
       "from_this_person_to_poi    1          0            0           0            0\n",
       "from_poi_to_this_person    1          0            0           0            0\n",
       "shared_receipt_with_poi    1          0            0           0            0\n",
       "restricted_stock           1          1            0           0            0\n",
       "to_messages                1          0            0           0            0\n",
       "other                      1          0            0           0            0\n",
       "salary                     1          1            1           1            1\n",
       "total_stock_value          1          1            1           1            1\n",
       "total_payments             1          0            0           0            0\n",
       "from_messages              1          0            0           0            0\n",
       "deferred_income            1          0            0           0            0\n",
       "kbest                    all          5            4           4            3"
      ]
     },
     "execution_count": 41,
     "metadata": {},
     "output_type": "execute_result"
    }
   ],
   "source": [
    "pd.DataFrame(np.array(selectKbest).transpose(),columns=clf_name,index = featureSelection[1:]+[\"kbest\"])"
   ]
  },
  {
   "cell_type": "markdown",
   "metadata": {},
   "source": [
    "==> the ratio of email numbers sent to/from/shared Poi would be more appropriate features, same thing for the ratio of bonus/total_payments and salary/total_payments"
   ]
  },
  {
   "cell_type": "code",
   "execution_count": 42,
   "metadata": {},
   "outputs": [
    {
     "data": {
      "text/plain": [
       "['poi',\n",
       " 'long_term_incentive',\n",
       " 'bonus',\n",
       " 'expenses',\n",
       " 'exercised_stock_options',\n",
       " 'from_this_person_to_poi',\n",
       " 'from_poi_to_this_person',\n",
       " 'shared_receipt_with_poi',\n",
       " 'restricted_stock',\n",
       " 'to_messages',\n",
       " 'other',\n",
       " 'salary',\n",
       " 'total_stock_value',\n",
       " 'total_payments',\n",
       " 'from_messages',\n",
       " 'deferred_income']"
      ]
     },
     "execution_count": 42,
     "metadata": {},
     "output_type": "execute_result"
    }
   ],
   "source": [
    "featureSelection"
   ]
  },
  {
   "cell_type": "markdown",
   "metadata": {},
   "source": [
    "## 3.5 Trying a new set of features"
   ]
  },
  {
   "cell_type": "code",
   "execution_count": 43,
   "metadata": {},
   "outputs": [],
   "source": [
    "newFeatureSelection = [\n",
    " 'bonus',\n",
    " 'salary',\n",
    " 'total_stock_value',\n",
    " 'exercised_stock_options',\n",
    " 'restricted_stock',\n",
    " ]+new_feature"
   ]
  },
  {
   "cell_type": "code",
   "execution_count": 44,
   "metadata": {},
   "outputs": [],
   "source": [
    "target_arr_1,feature_arr_1 = classLabel_feature_split(new_data_dict, target =\"poi\",featureList=newFeatureSelection)"
   ]
  },
  {
   "cell_type": "code",
   "execution_count": 45,
   "metadata": {},
   "outputs": [
    {
     "name": "stdout",
     "output_type": "stream",
     "text": [
      "0\n",
      "1\n",
      "2\n",
      "3\n",
      "4\n"
     ]
    }
   ],
   "source": [
    "grid_search_1 = {}\n",
    "for m in range(5):\n",
    "        print(m)\n",
    "        grid_search_1[m] = GridSearchCV(model[m], [param[m]], scoring='recall',cv=10).fit(feature_arr_1, target_arr_1)\n"
   ]
  },
  {
   "cell_type": "code",
   "execution_count": 46,
   "metadata": {},
   "outputs": [
    {
     "name": "stdout",
     "output_type": "stream",
     "text": [
      "#=========== pipeline steps==================================\n",
      "[('pipeline', Pipeline(memory=None,\n",
      "     steps=[('standardscaler', StandardScaler(copy=True, with_mean=True, with_std=True)), ('selectkbest', SelectKBest(k='all', score_func=<function f_classif at 0x1a0ac8b840>))])), ('svc', SVC(C=10, cache_size=200, class_weight=None, coef0=0.0,\n",
      "  decision_function_shape='ovr', degree=3, gamma=0.5, kernel='poly',\n",
      "  max_iter=-1, probability=False, random_state=None, shrinking=True,\n",
      "  tol=0.001, verbose=False))]\n",
      "#=================================\n",
      "Accuracy: 0.83 Precision: 0.38 Recall: 0.47 F1: 0.42 F2: 0.45\n",
      "trueNegative: 76.5% falsePositive: 10.2% falseNegative: 7.1% truePositive: 6.3%\n",
      "#==================================================================\n",
      "#=========== pipeline steps==================================\n",
      "[('pipeline', Pipeline(memory=None,\n",
      "     steps=[('standardscaler', StandardScaler(copy=True, with_mean=True, with_std=True)), ('selectkbest', SelectKBest(k=7, score_func=<function f_classif at 0x1a0ac8b840>))])), ('gaussiannb', GaussianNB(priors=None))]\n",
      "#=================================\n",
      "Accuracy: 0.85 Precision: 0.42 Recall: 0.34 F1: 0.38 F2: 0.36\n",
      "trueNegative: 80.3% falsePositive: 6.4% falseNegative: 8.8% truePositive: 4.6%\n",
      "#==================================================================\n",
      "#=========== pipeline steps==================================\n",
      "[('pipeline', Pipeline(memory=None,\n",
      "     steps=[('standardscaler', StandardScaler(copy=True, with_mean=True, with_std=True)), ('selectkbest', SelectKBest(k=5, score_func=<function f_classif at 0x1a0ac8b840>))])), ('decisiontreeclassifier', DecisionTreeClassifier(class_weight=None, criterion='gini', max_depth=None,\n",
      "            max_features=None, max_leaf_nodes=None,\n",
      "            min_impurity_decrease=0.0, min_impurity_split=None,\n",
      "            min_samples_leaf=1, min_samples_split=3,\n",
      "            min_weight_fraction_leaf=0.0, presort=False, random_state=None,\n",
      "            splitter='best'))]\n",
      "#=================================\n",
      "Accuracy: 0.80 Precision: 0.26 Recall: 0.26 F1: 0.26 F2: 0.26\n",
      "trueNegative: 76.7% falsePositive: 10.0% falseNegative: 9.8% truePositive: 3.5%\n",
      "#==================================================================\n",
      "#=========== pipeline steps==================================\n",
      "[('pipeline', Pipeline(memory=None,\n",
      "     steps=[('standardscaler', StandardScaler(copy=True, with_mean=True, with_std=True)), ('selectkbest', SelectKBest(k=2, score_func=<function f_classif at 0x1a0ac8b840>))])), ('kneighborsclassifier', KNeighborsClassifier(algorithm='auto', leaf_size=30, metric='minkowski',\n",
      "           metric_params=None, n_jobs=1, n_neighbors=3, p=2,\n",
      "           weights='uniform'))]\n",
      "#=================================\n",
      "Accuracy: 0.84 Precision: 0.32 Recall: 0.15 F1: 0.20 F2: 0.17\n",
      "trueNegative: 82.5% falsePositive: 4.2% falseNegative: 11.3% truePositive: 2.0%\n",
      "#==================================================================\n",
      "#=========== pipeline steps==================================\n",
      "[('pipeline', Pipeline(memory=None,\n",
      "     steps=[('standardscaler', StandardScaler(copy=True, with_mean=True, with_std=True)), ('selectkbest', SelectKBest(k=3, score_func=<function f_classif at 0x1a0ac8b840>))])), ('randomforestclassifier', RandomForestClassifier(bootstrap=True, class_weight=None, criterion='gini',\n",
      "            max_depth=None, max_features='auto', max_leaf_nodes=None,\n",
      "            min_impurity_decrease=0.0, min_impurity_split=None,\n",
      "            min_samples_leaf=1, min_samples_split=2,\n",
      "            min_weight_fraction_leaf=0.0, n_estimators=5, n_jobs=1,\n",
      "            oob_score=False, random_state=None, verbose=0,\n",
      "            warm_start=False))]\n",
      "#=================================\n",
      "Accuracy: 0.84 Precision: 0.35 Recall: 0.22 F1: 0.27 F2: 0.24\n",
      "trueNegative: 81.2% falsePositive: 5.5% falseNegative: 10.4% truePositive: 2.9%\n",
      "#==================================================================\n"
     ]
    }
   ],
   "source": [
    "res1 = []\n",
    "selectKbest1 = []\n",
    "for m in range(5):\n",
    "    classifier = grid_search_1[m].best_estimator_\n",
    "    stats = evaluate_classifier(classifier,new_data_dict,\"poi\",newFeatureSelection,nbFold=1000)\n",
    "    res1.append(stats)\n",
    "    selector = classifier.named_steps['pipeline'].get_params()['selectkbest']\n",
    "    k = selector.k\n",
    "    selectInd = selector.get_support(indices=True)\n",
    "    l = (len(newFeatureSelection))*[0]\n",
    "    for i in selectInd:\n",
    "        l[i]=1\n",
    "    l.append(k)\n",
    "    selectKbest1.append(l)"
   ]
  },
  {
   "cell_type": "code",
   "execution_count": 47,
   "metadata": {},
   "outputs": [
    {
     "data": {
      "text/html": [
       "<div>\n",
       "<style scoped>\n",
       "    .dataframe tbody tr th:only-of-type {\n",
       "        vertical-align: middle;\n",
       "    }\n",
       "\n",
       "    .dataframe tbody tr th {\n",
       "        vertical-align: top;\n",
       "    }\n",
       "\n",
       "    .dataframe thead th {\n",
       "        text-align: right;\n",
       "    }\n",
       "</style>\n",
       "<table border=\"1\" class=\"dataframe\">\n",
       "  <thead>\n",
       "    <tr style=\"text-align: right;\">\n",
       "      <th></th>\n",
       "      <th>Accuracy</th>\n",
       "      <th>Precision</th>\n",
       "      <th>Recall</th>\n",
       "      <th>F1</th>\n",
       "      <th>F2</th>\n",
       "      <th>%TrueNeg</th>\n",
       "      <th>%FalsePos</th>\n",
       "      <th>%FalseNeg</th>\n",
       "      <th>%TruePos</th>\n",
       "    </tr>\n",
       "  </thead>\n",
       "  <tbody>\n",
       "    <tr>\n",
       "      <th>SVM</th>\n",
       "      <td>0.827533</td>\n",
       "      <td>0.381222</td>\n",
       "      <td>0.4710</td>\n",
       "      <td>0.421382</td>\n",
       "      <td>0.449814</td>\n",
       "      <td>76.473333</td>\n",
       "      <td>10.193333</td>\n",
       "      <td>7.053333</td>\n",
       "      <td>6.280000</td>\n",
       "    </tr>\n",
       "    <tr>\n",
       "      <th>NaiveBayes</th>\n",
       "      <td>0.848267</td>\n",
       "      <td>0.416262</td>\n",
       "      <td>0.3430</td>\n",
       "      <td>0.376096</td>\n",
       "      <td>0.355514</td>\n",
       "      <td>80.253333</td>\n",
       "      <td>6.413333</td>\n",
       "      <td>8.760000</td>\n",
       "      <td>4.573333</td>\n",
       "    </tr>\n",
       "    <tr>\n",
       "      <th>DecisionTree</th>\n",
       "      <td>0.801867</td>\n",
       "      <td>0.259167</td>\n",
       "      <td>0.2615</td>\n",
       "      <td>0.260329</td>\n",
       "      <td>0.261030</td>\n",
       "      <td>76.700000</td>\n",
       "      <td>9.966667</td>\n",
       "      <td>9.846667</td>\n",
       "      <td>3.486667</td>\n",
       "    </tr>\n",
       "    <tr>\n",
       "      <th>K-Neighbors</th>\n",
       "      <td>0.844800</td>\n",
       "      <td>0.322894</td>\n",
       "      <td>0.1495</td>\n",
       "      <td>0.204375</td>\n",
       "      <td>0.167488</td>\n",
       "      <td>82.486667</td>\n",
       "      <td>4.180000</td>\n",
       "      <td>11.340000</td>\n",
       "      <td>1.993333</td>\n",
       "    </tr>\n",
       "    <tr>\n",
       "      <th>RandomForest</th>\n",
       "      <td>0.841200</td>\n",
       "      <td>0.348653</td>\n",
       "      <td>0.2200</td>\n",
       "      <td>0.269773</td>\n",
       "      <td>0.237530</td>\n",
       "      <td>81.186667</td>\n",
       "      <td>5.480000</td>\n",
       "      <td>10.400000</td>\n",
       "      <td>2.933333</td>\n",
       "    </tr>\n",
       "  </tbody>\n",
       "</table>\n",
       "</div>"
      ],
      "text/plain": [
       "              Accuracy  Precision  Recall        F1        F2   %TrueNeg  \\\n",
       "SVM           0.827533   0.381222  0.4710  0.421382  0.449814  76.473333   \n",
       "NaiveBayes    0.848267   0.416262  0.3430  0.376096  0.355514  80.253333   \n",
       "DecisionTree  0.801867   0.259167  0.2615  0.260329  0.261030  76.700000   \n",
       "K-Neighbors   0.844800   0.322894  0.1495  0.204375  0.167488  82.486667   \n",
       "RandomForest  0.841200   0.348653  0.2200  0.269773  0.237530  81.186667   \n",
       "\n",
       "              %FalsePos  %FalseNeg  %TruePos  \n",
       "SVM           10.193333   7.053333  6.280000  \n",
       "NaiveBayes     6.413333   8.760000  4.573333  \n",
       "DecisionTree   9.966667   9.846667  3.486667  \n",
       "K-Neighbors    4.180000  11.340000  1.993333  \n",
       "RandomForest   5.480000  10.400000  2.933333  "
      ]
     },
     "execution_count": 47,
     "metadata": {},
     "output_type": "execute_result"
    }
   ],
   "source": [
    "pd.DataFrame(res1,index=clf_name,columns= [\"Accuracy\", \"Precision\", \"Recall\", \"F1\", \"F2\",\"%TrueNeg\", \"%FalsePos\", \"%FalseNeg\", \"%TruePos\"])"
   ]
  },
  {
   "cell_type": "code",
   "execution_count": 48,
   "metadata": {},
   "outputs": [
    {
     "data": {
      "text/html": [
       "<div>\n",
       "<style scoped>\n",
       "    .dataframe tbody tr th:only-of-type {\n",
       "        vertical-align: middle;\n",
       "    }\n",
       "\n",
       "    .dataframe tbody tr th {\n",
       "        vertical-align: top;\n",
       "    }\n",
       "\n",
       "    .dataframe thead th {\n",
       "        text-align: right;\n",
       "    }\n",
       "</style>\n",
       "<table border=\"1\" class=\"dataframe\">\n",
       "  <thead>\n",
       "    <tr style=\"text-align: right;\">\n",
       "      <th></th>\n",
       "      <th>SVM</th>\n",
       "      <th>NaiveBayes</th>\n",
       "      <th>DecisionTree</th>\n",
       "      <th>K-Neighbors</th>\n",
       "      <th>RandomForest</th>\n",
       "    </tr>\n",
       "  </thead>\n",
       "  <tbody>\n",
       "    <tr>\n",
       "      <th>bonus</th>\n",
       "      <td>1</td>\n",
       "      <td>1</td>\n",
       "      <td>1</td>\n",
       "      <td>0</td>\n",
       "      <td>0</td>\n",
       "    </tr>\n",
       "    <tr>\n",
       "      <th>salary</th>\n",
       "      <td>1</td>\n",
       "      <td>1</td>\n",
       "      <td>1</td>\n",
       "      <td>0</td>\n",
       "      <td>0</td>\n",
       "    </tr>\n",
       "    <tr>\n",
       "      <th>total_stock_value</th>\n",
       "      <td>1</td>\n",
       "      <td>1</td>\n",
       "      <td>1</td>\n",
       "      <td>1</td>\n",
       "      <td>1</td>\n",
       "    </tr>\n",
       "    <tr>\n",
       "      <th>exercised_stock_options</th>\n",
       "      <td>1</td>\n",
       "      <td>1</td>\n",
       "      <td>1</td>\n",
       "      <td>0</td>\n",
       "      <td>1</td>\n",
       "    </tr>\n",
       "    <tr>\n",
       "      <th>restricted_stock</th>\n",
       "      <td>1</td>\n",
       "      <td>1</td>\n",
       "      <td>0</td>\n",
       "      <td>0</td>\n",
       "      <td>0</td>\n",
       "    </tr>\n",
       "    <tr>\n",
       "      <th>frac_from_this_person_to_poi</th>\n",
       "      <td>1</td>\n",
       "      <td>1</td>\n",
       "      <td>0</td>\n",
       "      <td>0</td>\n",
       "      <td>0</td>\n",
       "    </tr>\n",
       "    <tr>\n",
       "      <th>frac_from_poi_to_this_person</th>\n",
       "      <td>1</td>\n",
       "      <td>0</td>\n",
       "      <td>0</td>\n",
       "      <td>0</td>\n",
       "      <td>0</td>\n",
       "    </tr>\n",
       "    <tr>\n",
       "      <th>frac_shared_receipt_with_poi</th>\n",
       "      <td>1</td>\n",
       "      <td>0</td>\n",
       "      <td>0</td>\n",
       "      <td>0</td>\n",
       "      <td>0</td>\n",
       "    </tr>\n",
       "    <tr>\n",
       "      <th>frac_salary</th>\n",
       "      <td>1</td>\n",
       "      <td>0</td>\n",
       "      <td>0</td>\n",
       "      <td>0</td>\n",
       "      <td>0</td>\n",
       "    </tr>\n",
       "    <tr>\n",
       "      <th>frac_bonus</th>\n",
       "      <td>1</td>\n",
       "      <td>1</td>\n",
       "      <td>1</td>\n",
       "      <td>1</td>\n",
       "      <td>1</td>\n",
       "    </tr>\n",
       "    <tr>\n",
       "      <th>kbest</th>\n",
       "      <td>all</td>\n",
       "      <td>7</td>\n",
       "      <td>5</td>\n",
       "      <td>2</td>\n",
       "      <td>3</td>\n",
       "    </tr>\n",
       "  </tbody>\n",
       "</table>\n",
       "</div>"
      ],
      "text/plain": [
       "                              SVM NaiveBayes DecisionTree K-Neighbors  \\\n",
       "bonus                           1          1            1           0   \n",
       "salary                          1          1            1           0   \n",
       "total_stock_value               1          1            1           1   \n",
       "exercised_stock_options         1          1            1           0   \n",
       "restricted_stock                1          1            0           0   \n",
       "frac_from_this_person_to_poi    1          1            0           0   \n",
       "frac_from_poi_to_this_person    1          0            0           0   \n",
       "frac_shared_receipt_with_poi    1          0            0           0   \n",
       "frac_salary                     1          0            0           0   \n",
       "frac_bonus                      1          1            1           1   \n",
       "kbest                         all          7            5           2   \n",
       "\n",
       "                             RandomForest  \n",
       "bonus                                   0  \n",
       "salary                                  0  \n",
       "total_stock_value                       1  \n",
       "exercised_stock_options                 1  \n",
       "restricted_stock                        0  \n",
       "frac_from_this_person_to_poi            0  \n",
       "frac_from_poi_to_this_person            0  \n",
       "frac_shared_receipt_with_poi            0  \n",
       "frac_salary                             0  \n",
       "frac_bonus                              1  \n",
       "kbest                                   3  "
      ]
     },
     "execution_count": 48,
     "metadata": {},
     "output_type": "execute_result"
    }
   ],
   "source": [
    "pd.DataFrame(np.array(selectKbest1).transpose(),columns=clf_name,index = newFeatureSelection+[\"kbest\"])"
   ]
  },
  {
   "cell_type": "markdown",
   "metadata": {},
   "source": [
    "## Conclusion"
   ]
  },
  {
   "cell_type": "markdown",
   "metadata": {},
   "source": [
    "The SVM model performs the best recall (0.47) with good precision (0.38) and accuracy (0.83) and fbeta (>0.4) values using the following features : \n",
    "\n",
    "- bonus\n",
    "- salary\n",
    "- total_stock_value\n",
    "- exercised_stock_options\n",
    "- restricted_stock\n",
    "- frac_from_this_person_to_poi\n",
    "- frac_from_poi_to_this_person\n",
    "- frac_shared_receipt_with_poi\n",
    "- frac_salary\n",
    "- frac_bonus\n",
    "\n",
    "and the following parameters:\n",
    "\n",
    "- C=10\n",
    "- degree=3\n",
    "- gamma=0.5\n",
    "- kernel='poly'\n"
   ]
  },
  {
   "cell_type": "code",
   "execution_count": 49,
   "metadata": {},
   "outputs": [
    {
     "data": {
      "text/plain": [
       "['bonus',\n",
       " 'salary',\n",
       " 'total_stock_value',\n",
       " 'exercised_stock_options',\n",
       " 'restricted_stock',\n",
       " 'frac_from_this_person_to_poi',\n",
       " 'frac_from_poi_to_this_person',\n",
       " 'frac_shared_receipt_with_poi',\n",
       " 'frac_salary',\n",
       " 'frac_bonus']"
      ]
     },
     "execution_count": 49,
     "metadata": {},
     "output_type": "execute_result"
    }
   ],
   "source": [
    "my_dataset = new_data_dict\n",
    "my_model_ind = 0\n",
    "my_feature_list = [newFeatureSelection[k] for k in range(len(newFeatureSelection)) if selectKbest1[my_model_ind][:-1][k]==1]\n",
    "my_classifier =  grid_search_1[my_model_ind].best_estimator_\n",
    "my_feature_list"
   ]
  },
  {
   "cell_type": "code",
   "execution_count": 50,
   "metadata": {},
   "outputs": [],
   "source": [
    "def dump_classifier_and_data(clf, dataset, feature_list,CLF_PICKLE_FILENAME,DATASET_PICKLE_FILENAME,FEATURE_LIST_FILENAME):\n",
    "    with open(CLF_PICKLE_FILENAME, \"wb\") as clf_outfile:\n",
    "        pickle.dump(clf, clf_outfile)\n",
    "    with open(DATASET_PICKLE_FILENAME, \"wb\") as dataset_outfile:\n",
    "        pickle.dump(dataset, dataset_outfile)\n",
    "    with open(FEATURE_LIST_FILENAME, \"wb\") as featurelist_outfile:\n",
    "        pickle.dump(feature_list, featurelist_outfile)\n",
    "        \n",
    "CLF_PICKLE_FILENAME = \"../data/my_classifier.pkl\"\n",
    "DATASET_PICKLE_FILENAME = \"../data/my_dataset.pkl\"\n",
    "FEATURE_LIST_FILENAME = \"../data/my_feature_list.pkl\"\n",
    "dump_classifier_and_data(my_classifier,my_dataset,my_feature_list,CLF_PICKLE_FILENAME,DATASET_PICKLE_FILENAME,FEATURE_LIST_FILENAME)"
   ]
  },
  {
   "cell_type": "code",
   "execution_count": 51,
   "metadata": {},
   "outputs": [],
   "source": [
    "!conda env export -n enronDataSet > environment.yml\n"
   ]
  }
 ],
 "metadata": {
  "anaconda-cloud": {},
  "kernelspec": {
   "display_name": "Python [default]",
   "language": "python",
   "name": "python3"
  },
  "language_info": {
   "codemirror_mode": {
    "name": "ipython",
    "version": 3
   },
   "file_extension": ".py",
   "mimetype": "text/x-python",
   "name": "python",
   "nbconvert_exporter": "python",
   "pygments_lexer": "ipython3",
   "version": "3.5.2"
  }
 },
 "nbformat": 4,
 "nbformat_minor": 2
}
